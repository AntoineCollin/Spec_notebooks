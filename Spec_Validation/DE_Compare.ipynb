{
 "cells": [
  {
   "cell_type": "code",
   "execution_count": 159,
   "metadata": {},
   "outputs": [],
   "source": [
    "import scanpy as sc\n",
    "import os\n",
    "import anndata\n",
    "import pandas as pd\n",
    "import ipywidgets as widgets\n",
    "from IPython.display import display\n",
    "import matplotlib.pyplot as plt\n",
    "from scanpy.metrics.specificity.plot import marker_genes_distribution, one_v_max_genelist\n",
    "import numpy as np\n",
    "from scanpy.metrics.specificity.get_data import get_average_celltype_counts,get_spe\n",
    "from scanpy.metrics.specificity.compute import one_v_max_matrix\n",
    "from joblib import dump, load\n",
    "import pickle\n",
    "import seaborn as sns\n",
    "import copy\n",
    "os.chdir('C:\\\\Users\\\\ipmc\\\\Documents\\\\Metrics_results')"
   ]
  },
  {
   "cell_type": "markdown",
   "metadata": {},
   "source": [
    "## Load data"
   ]
  },
  {
   "cell_type": "code",
   "execution_count": 34,
   "metadata": {},
   "outputs": [],
   "source": [
    "DATA_PATH = r'data/'\n",
    "MODEL_PATH = r'models/'"
   ]
  },
  {
   "cell_type": "code",
   "execution_count": 35,
   "metadata": {},
   "outputs": [],
   "source": [
    "barbry_file = 'HCA_Barbry_Grch38_Raw_filter_Norm.h5ad'\n",
    "meyer_file = 'lung.cellxgene.h5ad'"
   ]
  },
  {
   "cell_type": "code",
   "execution_count": 36,
   "metadata": {},
   "outputs": [
    {
     "name": "stderr",
     "output_type": "stream",
     "text": [
      "C:\\Users\\ipmc\\.conda\\envs\\scanpypip\\lib\\site-packages\\anndata\\compat\\__init__.py:158: FutureWarning: Moving element from .uns['neighbors']['distances'] to .obsp['distances'].\n",
      "\n",
      "This is where adjacency matrices should go now.\n",
      "  warn(\n",
      "C:\\Users\\ipmc\\.conda\\envs\\scanpypip\\lib\\site-packages\\anndata\\compat\\__init__.py:158: FutureWarning: Moving element from .uns['neighbors']['connectivities'] to .obsp['connectivities'].\n",
      "\n",
      "This is where adjacency matrices should go now.\n",
      "  warn(\n"
     ]
    }
   ],
   "source": [
    "barbry = anndata.read_h5ad(DATA_PATH + 'HCA_Barbry_Grch38_Raw_filter_Norm.h5ad')\n",
    "meyer = anndata.read_h5ad(DATA_PATH + 'lung.cellxgene.h5ad')"
   ]
  },
  {
   "cell_type": "code",
   "execution_count": 148,
   "metadata": {},
   "outputs": [],
   "source": [
    "a=np.array(barbry.X.todense()[:,0])\n"
   ]
  },
  {
   "cell_type": "code",
   "execution_count": 136,
   "metadata": {},
   "outputs": [
    {
     "data": {
      "text/html": [
       "<div>\n",
       "<style scoped>\n",
       "    .dataframe tbody tr th:only-of-type {\n",
       "        vertical-align: middle;\n",
       "    }\n",
       "\n",
       "    .dataframe tbody tr th {\n",
       "        vertical-align: top;\n",
       "    }\n",
       "\n",
       "    .dataframe thead th {\n",
       "        text-align: right;\n",
       "    }\n",
       "</style>\n",
       "<table border=\"1\" class=\"dataframe\">\n",
       "  <thead>\n",
       "    <tr style=\"text-align: right;\">\n",
       "      <th></th>\n",
       "      <th>batch</th>\n",
       "      <th>donor</th>\n",
       "      <th>manip</th>\n",
       "      <th>method</th>\n",
       "      <th>position</th>\n",
       "      <th>CellType</th>\n",
       "      <th>Sex</th>\n",
       "      <th>Age</th>\n",
       "    </tr>\n",
       "  </thead>\n",
       "  <tbody>\n",
       "    <tr>\n",
       "      <th>D367_Brus_Nas1_CCATGTCTCTAAGCCA-1-27</th>\n",
       "      <td>0</td>\n",
       "      <td>D367</td>\n",
       "      <td>D367_Brus_Nas1</td>\n",
       "      <td>Brushing</td>\n",
       "      <td>Nasal</td>\n",
       "      <td>Multiciliated N</td>\n",
       "      <td>male</td>\n",
       "      <td>27.0</td>\n",
       "    </tr>\n",
       "    <tr>\n",
       "      <th>D322_Biop_Nas1_CGTCCATCAAATCCGT-1-0</th>\n",
       "      <td>0</td>\n",
       "      <td>D322</td>\n",
       "      <td>D322_Biop_Nas1</td>\n",
       "      <td>Biopsy</td>\n",
       "      <td>Nasal</td>\n",
       "      <td>Suprabasal N</td>\n",
       "      <td>female</td>\n",
       "      <td>30.0</td>\n",
       "    </tr>\n",
       "    <tr>\n",
       "      <th>D363_Brus_Nas1_GGCAATTTCGATCCCT-1-23</th>\n",
       "      <td>0</td>\n",
       "      <td>D363</td>\n",
       "      <td>D363_Brus_Nas1</td>\n",
       "      <td>Brushing</td>\n",
       "      <td>Nasal</td>\n",
       "      <td>Secretory N</td>\n",
       "      <td>female</td>\n",
       "      <td>24.0</td>\n",
       "    </tr>\n",
       "    <tr>\n",
       "      <th>D353_Brus_Nas1_CCAGCGAGTACACCGC-1-16</th>\n",
       "      <td>0</td>\n",
       "      <td>D353</td>\n",
       "      <td>D353_Brus_Nas1</td>\n",
       "      <td>Brushing</td>\n",
       "      <td>Nasal</td>\n",
       "      <td>Multiciliated N</td>\n",
       "      <td>female</td>\n",
       "      <td>30.0</td>\n",
       "    </tr>\n",
       "    <tr>\n",
       "      <th>D367_Brus_Nas1_AGGTCCGTCCTGCTTG-1-27</th>\n",
       "      <td>0</td>\n",
       "      <td>D367</td>\n",
       "      <td>D367_Brus_Nas1</td>\n",
       "      <td>Brushing</td>\n",
       "      <td>Nasal</td>\n",
       "      <td>Secretory N</td>\n",
       "      <td>male</td>\n",
       "      <td>27.0</td>\n",
       "    </tr>\n",
       "    <tr>\n",
       "      <th>...</th>\n",
       "      <td>...</td>\n",
       "      <td>...</td>\n",
       "      <td>...</td>\n",
       "      <td>...</td>\n",
       "      <td>...</td>\n",
       "      <td>...</td>\n",
       "      <td>...</td>\n",
       "      <td>...</td>\n",
       "    </tr>\n",
       "    <tr>\n",
       "      <th>D367_Biop_Pro1_TCGTAGAGTTTGGGCC-1-28</th>\n",
       "      <td>0</td>\n",
       "      <td>D367</td>\n",
       "      <td>D367_Biop_Pro1</td>\n",
       "      <td>Biopsy</td>\n",
       "      <td>Proximal</td>\n",
       "      <td>Basal</td>\n",
       "      <td>male</td>\n",
       "      <td>27.0</td>\n",
       "    </tr>\n",
       "    <tr>\n",
       "      <th>D353_Brus_Nas1_CGGACACTCACCTTAT-1-16</th>\n",
       "      <td>0</td>\n",
       "      <td>D353</td>\n",
       "      <td>D353_Brus_Nas1</td>\n",
       "      <td>Brushing</td>\n",
       "      <td>Nasal</td>\n",
       "      <td>Multiciliated N</td>\n",
       "      <td>female</td>\n",
       "      <td>30.0</td>\n",
       "    </tr>\n",
       "    <tr>\n",
       "      <th>D367_Biop_Pro1_GTGCATACAGGTCTCG-1-28</th>\n",
       "      <td>0</td>\n",
       "      <td>D367</td>\n",
       "      <td>D367_Biop_Pro1</td>\n",
       "      <td>Biopsy</td>\n",
       "      <td>Proximal</td>\n",
       "      <td>Basal</td>\n",
       "      <td>male</td>\n",
       "      <td>27.0</td>\n",
       "    </tr>\n",
       "    <tr>\n",
       "      <th>D372_Biop_Int2_GTACTTTTCTTGTACT-1-34</th>\n",
       "      <td>0</td>\n",
       "      <td>D372</td>\n",
       "      <td>D372_Biop_Int2</td>\n",
       "      <td>Biopsy</td>\n",
       "      <td>Intermediate</td>\n",
       "      <td>Suprabasal</td>\n",
       "      <td>female</td>\n",
       "      <td>35.0</td>\n",
       "    </tr>\n",
       "    <tr>\n",
       "      <th>D339_Biop_Int1_TCGGGACCAAGTTAAG-1-9</th>\n",
       "      <td>0</td>\n",
       "      <td>D339</td>\n",
       "      <td>D339_Biop_Int1</td>\n",
       "      <td>Biopsy</td>\n",
       "      <td>Intermediate</td>\n",
       "      <td>Suprabasal</td>\n",
       "      <td>male</td>\n",
       "      <td>29.0</td>\n",
       "    </tr>\n",
       "  </tbody>\n",
       "</table>\n",
       "<p>77969 rows × 8 columns</p>\n",
       "</div>"
      ],
      "text/plain": [
       "                                     batch donor           manip    method  \\\n",
       "D367_Brus_Nas1_CCATGTCTCTAAGCCA-1-27     0  D367  D367_Brus_Nas1  Brushing   \n",
       "D322_Biop_Nas1_CGTCCATCAAATCCGT-1-0      0  D322  D322_Biop_Nas1    Biopsy   \n",
       "D363_Brus_Nas1_GGCAATTTCGATCCCT-1-23     0  D363  D363_Brus_Nas1  Brushing   \n",
       "D353_Brus_Nas1_CCAGCGAGTACACCGC-1-16     0  D353  D353_Brus_Nas1  Brushing   \n",
       "D367_Brus_Nas1_AGGTCCGTCCTGCTTG-1-27     0  D367  D367_Brus_Nas1  Brushing   \n",
       "...                                    ...   ...             ...       ...   \n",
       "D367_Biop_Pro1_TCGTAGAGTTTGGGCC-1-28     0  D367  D367_Biop_Pro1    Biopsy   \n",
       "D353_Brus_Nas1_CGGACACTCACCTTAT-1-16     0  D353  D353_Brus_Nas1  Brushing   \n",
       "D367_Biop_Pro1_GTGCATACAGGTCTCG-1-28     0  D367  D367_Biop_Pro1    Biopsy   \n",
       "D372_Biop_Int2_GTACTTTTCTTGTACT-1-34     0  D372  D372_Biop_Int2    Biopsy   \n",
       "D339_Biop_Int1_TCGGGACCAAGTTAAG-1-9      0  D339  D339_Biop_Int1    Biopsy   \n",
       "\n",
       "                                          position         CellType     Sex  \\\n",
       "D367_Brus_Nas1_CCATGTCTCTAAGCCA-1-27         Nasal  Multiciliated N    male   \n",
       "D322_Biop_Nas1_CGTCCATCAAATCCGT-1-0          Nasal     Suprabasal N  female   \n",
       "D363_Brus_Nas1_GGCAATTTCGATCCCT-1-23         Nasal      Secretory N  female   \n",
       "D353_Brus_Nas1_CCAGCGAGTACACCGC-1-16         Nasal  Multiciliated N  female   \n",
       "D367_Brus_Nas1_AGGTCCGTCCTGCTTG-1-27         Nasal      Secretory N    male   \n",
       "...                                            ...              ...     ...   \n",
       "D367_Biop_Pro1_TCGTAGAGTTTGGGCC-1-28      Proximal            Basal    male   \n",
       "D353_Brus_Nas1_CGGACACTCACCTTAT-1-16         Nasal  Multiciliated N  female   \n",
       "D367_Biop_Pro1_GTGCATACAGGTCTCG-1-28      Proximal            Basal    male   \n",
       "D372_Biop_Int2_GTACTTTTCTTGTACT-1-34  Intermediate       Suprabasal  female   \n",
       "D339_Biop_Int1_TCGGGACCAAGTTAAG-1-9   Intermediate       Suprabasal    male   \n",
       "\n",
       "                                       Age  \n",
       "D367_Brus_Nas1_CCATGTCTCTAAGCCA-1-27  27.0  \n",
       "D322_Biop_Nas1_CGTCCATCAAATCCGT-1-0   30.0  \n",
       "D363_Brus_Nas1_GGCAATTTCGATCCCT-1-23  24.0  \n",
       "D353_Brus_Nas1_CCAGCGAGTACACCGC-1-16  30.0  \n",
       "D367_Brus_Nas1_AGGTCCGTCCTGCTTG-1-27  27.0  \n",
       "...                                    ...  \n",
       "D367_Biop_Pro1_TCGTAGAGTTTGGGCC-1-28  27.0  \n",
       "D353_Brus_Nas1_CGGACACTCACCTTAT-1-16  30.0  \n",
       "D367_Biop_Pro1_GTGCATACAGGTCTCG-1-28  27.0  \n",
       "D372_Biop_Int2_GTACTTTTCTTGTACT-1-34  35.0  \n",
       "D339_Biop_Int1_TCGGGACCAAGTTAAG-1-9   29.0  \n",
       "\n",
       "[77969 rows x 8 columns]"
      ]
     },
     "execution_count": 136,
     "metadata": {},
     "output_type": "execute_result"
    }
   ],
   "source": [
    "barbry.obs"
   ]
  },
  {
   "cell_type": "markdown",
   "metadata": {},
   "source": [
    "## Détermination des gènes marqueurs selon plusieurs méthodes"
   ]
  },
  {
   "cell_type": "markdown",
   "metadata": {},
   "source": [
    "On va tester la plupart des méthodes de ranking_genes_group.\n",
    "Pour ce qui est de la spécificité, on peut en faire plusieurs cat. Dans un premier temps, on garde les high et les unique et on regarde ce que ça donne (combien yen a etc...). On pourra ensuite jeter un coup d'oeil aux multi spé mais yaura surement besoin de la métrique magique."
   ]
  },
  {
   "cell_type": "code",
   "execution_count": 106,
   "metadata": {},
   "outputs": [],
   "source": [
    "sc.tl.rank_genes_groups(barbry, 'CellType', method='t-test')\n",
    "#sc.pl.rank_genes_groups(barbry, n_genes=20, sharey=False)\n",
    "\n",
    "ttest_de =  copy.deepcopy(barbry.uns['rank_genes_groups'])"
   ]
  },
  {
   "cell_type": "code",
   "execution_count": 107,
   "metadata": {},
   "outputs": [],
   "source": [
    "sc.tl.rank_genes_groups(barbry, 'CellType', method='wilcoxon')\n",
    "#sc.pl.rank_genes_groups(barbry, n_genes=20, sharey=False)\n",
    "\n",
    "wilco_de = copy.deepcopy(barbry.uns['rank_genes_groups'])"
   ]
  },
  {
   "cell_type": "code",
   "execution_count": 110,
   "metadata": {},
   "outputs": [
    {
     "name": "stderr",
     "output_type": "stream",
     "text": [
      "C:\\Users\\ipmc\\.conda\\envs\\scanpypip\\lib\\site-packages\\anndata\\_core\\anndata.py:1192: FutureWarning: is_categorical is deprecated and will be removed in a future version.  Use is_categorical_dtype instead\n",
      "  if is_string_dtype(df[key]) and not is_categorical(df[key])\n",
      "C:\\Users\\ipmc\\.conda\\envs\\scanpypip\\lib\\site-packages\\sklearn\\linear_model\\_logistic.py:762: ConvergenceWarning: lbfgs failed to converge (status=1):\n",
      "STOP: TOTAL NO. of ITERATIONS REACHED LIMIT.\n",
      "\n",
      "Increase the number of iterations (max_iter) or scale the data as shown in:\n",
      "    https://scikit-learn.org/stable/modules/preprocessing.html\n",
      "Please also refer to the documentation for alternative solver options:\n",
      "    https://scikit-learn.org/stable/modules/linear_model.html#logistic-regression\n",
      "  n_iter_i = _check_optimize_result(\n"
     ]
    }
   ],
   "source": [
    "#sc.tl.rank_genes_groups(barbry, 'CellType', method='logreg')\n",
    "#sc.pl.rank_genes_groups(barbry, n_genes=20, sharey=False)\n",
    "\n",
    "#logreg_de = copy.deepcopy(barbry.uns['rank_genes_groups'])"
   ]
  },
  {
   "cell_type": "code",
   "execution_count": 135,
   "metadata": {},
   "outputs": [
    {
     "data": {
      "text/plain": [
       "dtype((numpy.record, [('AT1', 'O'), ('AT2', 'O'), ('B cells', 'O'), ('Basal', 'O'), ('Brush cells', 'O'), ('Cycling Basal', 'O'), ('Dendritic', 'O'), ('Deuterosomal', 'O'), ('Endothelial', 'O'), ('Fibroblast', 'O'), ('Ionocyte', 'O'), ('LT/NK', 'O'), ('Macrophage', 'O'), ('Mast cells', 'O'), ('Monocyte', 'O'), ('Multiciliated', 'O'), ('Multiciliated N', 'O'), ('PNEC', 'O'), ('Pericyte', 'O'), ('Plasma cells', 'O'), ('Precursor', 'O'), ('SMG Goblet', 'O'), ('Secretory', 'O'), ('Secretory N', 'O'), ('Serous', 'O'), ('Smooth muscle', 'O'), ('Suprabasal', 'O'), ('Suprabasal N', 'O')]))"
      ]
     },
     "execution_count": 135,
     "metadata": {},
     "output_type": "execute_result"
    }
   ],
   "source": [
    "barbry.uns['rank_genes_groups']['names'].dtype"
   ]
  },
  {
   "cell_type": "code",
   "execution_count": 99,
   "metadata": {},
   "outputs": [
    {
     "data": {
      "text/plain": [
       "'nounou'"
      ]
     },
     "execution_count": 99,
     "metadata": {},
     "output_type": "execute_result"
    }
   ],
   "source": [
    "dic['d']"
   ]
  },
  {
   "cell_type": "code",
   "execution_count": 145,
   "metadata": {},
   "outputs": [],
   "source": [
    "def dict_to_df(DE_dico):\n",
    "    celltypes = barbry.obs['CellType'].cat.categories\n",
    "    df = pd.DataFrame(index = np.linspace(1,20,20)  , columns = celltypes )\n",
    "    for celltype in celltypes:\n",
    "        df[celltype] = DE_dico['names'][celltype][0:20]\n",
    "    return df"
   ]
  },
  {
   "cell_type": "markdown",
   "metadata": {},
   "source": [
    "## Load specificity"
   ]
  },
  {
   "cell_type": "code",
   "execution_count": 157,
   "metadata": {},
   "outputs": [],
   "source": [
    "def find_max_celltype(gene,adata,partition_key=\"CellType\"):\n",
    "    get_average_celltype_counts(adata , partition_key = partition_key)\n",
    "    gene_index = int(np.where(adata.var.index == gene)[0])\n",
    "    max_celltype_index = np.argmax(adata.varm['ave_celltype_counts_' + partition_key][gene_index,:])\n",
    "    max_celltype = list(adata.obs[partition_key].cat.categories)[max_celltype_index]\n",
    "    return(max_celltype)\n",
    "\n",
    "def full_spe_matrix(adata, partition_key: str = 'CellType') :\n",
    "    shannon = get_spe(adata, spe_metric='shannon', partition_key=partition_key)\n",
    "    tau = get_spe(adata, spe_metric='tau', partition_key=partition_key)\n",
    "    gini = get_spe(adata, spe_metric='gini', partition_key=partition_key)\n",
    "    one_v_max = one_v_max_matrix(adata,partition_key=partition_key)\n",
    "    spe_matrix = pd.DataFrame(columns=['gene',\n",
    "                                       'most expressed celltype',\n",
    "                                       'one_v_max',\n",
    "                                       'shannon',\n",
    "                                       'tau',\n",
    "                                       'gini'])\n",
    "    for gene in adata.var.index :\n",
    "        print()\n",
    "        spe_matrix.loc[gene,:] = [gene,\n",
    "                                  find_max_celltype(gene,adata,partition_key=partition_key),\n",
    "                                  max(one_v_max[gene]), \n",
    "                                  shannon[gene],\n",
    "                                  tau[gene],\n",
    "                                  gini[gene]]\n",
    "    return spe_matrix"
   ]
  },
  {
   "cell_type": "code",
   "execution_count": null,
   "metadata": {},
   "outputs": [],
   "source": [
    "spe_matrix = full_spe_matrix(barbry, partition_key='CellType')\n",
    "clf_Deprez_366obs = load(MODEL_PATH + 'clf_train_Deprez_366obs.joblib')\n",
    "spe_type = clf_Deprez_366obs.predict(spe_matrix[['one_v_max','shannon','tau','gini']])\n",
    "spec_dict={'0':'equirep','1':'low','2':'multi-spec','3':'high','4':'unique'}\n",
    "spe_matrix['spe_type'] = pd.Series(spe_type, index = spe_matrix.index).apply(str).replace(spec_dict)"
   ]
  },
  {
   "cell_type": "code",
   "execution_count": 169,
   "metadata": {},
   "outputs": [
    {
     "data": {
      "text/html": [
       "<div>\n",
       "<style scoped>\n",
       "    .dataframe tbody tr th:only-of-type {\n",
       "        vertical-align: middle;\n",
       "    }\n",
       "\n",
       "    .dataframe tbody tr th {\n",
       "        vertical-align: top;\n",
       "    }\n",
       "\n",
       "    .dataframe thead th {\n",
       "        text-align: right;\n",
       "    }\n",
       "</style>\n",
       "<table border=\"1\" class=\"dataframe\">\n",
       "  <thead>\n",
       "    <tr style=\"text-align: right;\">\n",
       "      <th></th>\n",
       "      <th>gene</th>\n",
       "      <th>most expressed celltype</th>\n",
       "      <th>one_v_max</th>\n",
       "      <th>shannon</th>\n",
       "      <th>tau</th>\n",
       "      <th>gini</th>\n",
       "      <th>spe_type</th>\n",
       "    </tr>\n",
       "  </thead>\n",
       "  <tbody>\n",
       "    <tr>\n",
       "      <th>AL669831.5</th>\n",
       "      <td>AL669831.5</td>\n",
       "      <td>AT2</td>\n",
       "      <td>1.56192</td>\n",
       "      <td>0.637306</td>\n",
       "      <td>0.742319</td>\n",
       "      <td>0.391246</td>\n",
       "      <td>low</td>\n",
       "    </tr>\n",
       "    <tr>\n",
       "      <th>LINC00115</th>\n",
       "      <td>LINC00115</td>\n",
       "      <td>PNEC</td>\n",
       "      <td>1.22682</td>\n",
       "      <td>0.628045</td>\n",
       "      <td>0.626468</td>\n",
       "      <td>0.399453</td>\n",
       "      <td>equirep</td>\n",
       "    </tr>\n",
       "    <tr>\n",
       "      <th>FAM41C</th>\n",
       "      <td>FAM41C</td>\n",
       "      <td>Deuterosomal</td>\n",
       "      <td>1.12528</td>\n",
       "      <td>0.637185</td>\n",
       "      <td>0.663437</td>\n",
       "      <td>0.393725</td>\n",
       "      <td>equirep</td>\n",
       "    </tr>\n",
       "    <tr>\n",
       "      <th>NOC2L</th>\n",
       "      <td>NOC2L</td>\n",
       "      <td>Precursor</td>\n",
       "      <td>1.46304</td>\n",
       "      <td>0.673486</td>\n",
       "      <td>0.569871</td>\n",
       "      <td>0.219136</td>\n",
       "      <td>equirep</td>\n",
       "    </tr>\n",
       "    <tr>\n",
       "      <th>PLEKHN1</th>\n",
       "      <td>PLEKHN1</td>\n",
       "      <td>Suprabasal N</td>\n",
       "      <td>1.83215</td>\n",
       "      <td>0.519458</td>\n",
       "      <td>0.867355</td>\n",
       "      <td>0.66531</td>\n",
       "      <td>low</td>\n",
       "    </tr>\n",
       "    <tr>\n",
       "      <th>...</th>\n",
       "      <td>...</td>\n",
       "      <td>...</td>\n",
       "      <td>...</td>\n",
       "      <td>...</td>\n",
       "      <td>...</td>\n",
       "      <td>...</td>\n",
       "      <td>...</td>\n",
       "    </tr>\n",
       "    <tr>\n",
       "      <th>AC007325.4</th>\n",
       "      <td>AC007325.4</td>\n",
       "      <td>Deuterosomal</td>\n",
       "      <td>3.16325</td>\n",
       "      <td>0.538201</td>\n",
       "      <td>0.907686</td>\n",
       "      <td>0.615957</td>\n",
       "      <td>high</td>\n",
       "    </tr>\n",
       "    <tr>\n",
       "      <th>AC007325.2</th>\n",
       "      <td>AC007325.2</td>\n",
       "      <td>Cycling Basal</td>\n",
       "      <td>1.07778</td>\n",
       "      <td>0.414222</td>\n",
       "      <td>0.886558</td>\n",
       "      <td>0.792062</td>\n",
       "      <td>multi-spec</td>\n",
       "    </tr>\n",
       "    <tr>\n",
       "      <th>AL354822.1</th>\n",
       "      <td>AL354822.1</td>\n",
       "      <td>Ionocyte</td>\n",
       "      <td>1.26802</td>\n",
       "      <td>0.604515</td>\n",
       "      <td>0.729433</td>\n",
       "      <td>0.467284</td>\n",
       "      <td>equirep</td>\n",
       "    </tr>\n",
       "    <tr>\n",
       "      <th>AC004556.1</th>\n",
       "      <td>AC004556.1</td>\n",
       "      <td>Precursor</td>\n",
       "      <td>1.42064</td>\n",
       "      <td>0.578837</td>\n",
       "      <td>0.840537</td>\n",
       "      <td>0.550767</td>\n",
       "      <td>multi-spec</td>\n",
       "    </tr>\n",
       "    <tr>\n",
       "      <th>AC240274.1</th>\n",
       "      <td>AC240274.1</td>\n",
       "      <td>Deuterosomal</td>\n",
       "      <td>1.93247</td>\n",
       "      <td>0.608708</td>\n",
       "      <td>0.832561</td>\n",
       "      <td>0.461009</td>\n",
       "      <td>multi-spec</td>\n",
       "    </tr>\n",
       "  </tbody>\n",
       "</table>\n",
       "<p>14349 rows × 7 columns</p>\n",
       "</div>"
      ],
      "text/plain": [
       "                  gene most expressed celltype one_v_max   shannon       tau  \\\n",
       "AL669831.5  AL669831.5                     AT2   1.56192  0.637306  0.742319   \n",
       "LINC00115    LINC00115                    PNEC   1.22682  0.628045  0.626468   \n",
       "FAM41C          FAM41C            Deuterosomal   1.12528  0.637185  0.663437   \n",
       "NOC2L            NOC2L               Precursor   1.46304  0.673486  0.569871   \n",
       "PLEKHN1        PLEKHN1            Suprabasal N   1.83215  0.519458  0.867355   \n",
       "...                ...                     ...       ...       ...       ...   \n",
       "AC007325.4  AC007325.4            Deuterosomal   3.16325  0.538201  0.907686   \n",
       "AC007325.2  AC007325.2           Cycling Basal   1.07778  0.414222  0.886558   \n",
       "AL354822.1  AL354822.1                Ionocyte   1.26802  0.604515  0.729433   \n",
       "AC004556.1  AC004556.1               Precursor   1.42064  0.578837  0.840537   \n",
       "AC240274.1  AC240274.1            Deuterosomal   1.93247  0.608708  0.832561   \n",
       "\n",
       "                gini    spe_type  \n",
       "AL669831.5  0.391246         low  \n",
       "LINC00115   0.399453     equirep  \n",
       "FAM41C      0.393725     equirep  \n",
       "NOC2L       0.219136     equirep  \n",
       "PLEKHN1      0.66531         low  \n",
       "...              ...         ...  \n",
       "AC007325.4  0.615957        high  \n",
       "AC007325.2  0.792062  multi-spec  \n",
       "AL354822.1  0.467284     equirep  \n",
       "AC004556.1  0.550767  multi-spec  \n",
       "AC240274.1  0.461009  multi-spec  \n",
       "\n",
       "[14349 rows x 7 columns]"
      ]
     },
     "execution_count": 169,
     "metadata": {},
     "output_type": "execute_result"
    }
   ],
   "source": [
    "spe_matrix"
   ]
  },
  {
   "cell_type": "code",
   "execution_count": null,
   "metadata": {},
   "outputs": [],
   "source": []
  },
  {
   "cell_type": "code",
   "execution_count": null,
   "metadata": {},
   "outputs": [],
   "source": []
  }
 ],
 "metadata": {
  "kernelspec": {
   "display_name": "Python (scanpypip)",
   "language": "python",
   "name": "scanpypip"
  },
  "language_info": {
   "codemirror_mode": {
    "name": "ipython",
    "version": 3
   },
   "file_extension": ".py",
   "mimetype": "text/x-python",
   "name": "python",
   "nbconvert_exporter": "python",
   "pygments_lexer": "ipython3",
   "version": "3.8.5"
  }
 },
 "nbformat": 4,
 "nbformat_minor": 4
}
