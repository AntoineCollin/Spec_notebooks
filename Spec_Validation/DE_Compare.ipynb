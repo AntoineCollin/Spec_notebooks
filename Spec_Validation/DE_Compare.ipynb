{
 "cells": [
  {
   "cell_type": "code",
   "execution_count": 4,
   "metadata": {},
   "outputs": [],
   "source": [
    "import scanpy as sc\n",
    "import os\n",
    "import anndata\n",
    "import pandas as pd\n",
    "import ipywidgets as widgets\n",
    "from IPython.display import display\n",
    "import matplotlib.pyplot as plt\n",
    "from scanpy.metrics.specificity.plot import marker_genes_distribution, one_v_max_genelist\n",
    "import numpy as np\n",
    "from scanpy.metrics.specificity.get_data import get_average_celltype_counts,get_spe\n",
    "from scanpy.metrics.specificity.compute import one_v_max_matrix\n",
    "from joblib import dump, load\n",
    "import pickle\n",
    "import seaborn as sns\n",
    "import copy\n",
    "import upsetplot\n",
    "os.chdir('C:\\\\Users\\\\ipmc\\\\Documents\\\\Metrics_results')"
   ]
  },
  {
   "cell_type": "markdown",
   "metadata": {},
   "source": [
    "## Load data"
   ]
  },
  {
   "cell_type": "code",
   "execution_count": 5,
   "metadata": {},
   "outputs": [],
   "source": [
    "DATA_PATH = r'data/'\n",
    "MODEL_PATH = r'models/'"
   ]
  },
  {
   "cell_type": "code",
   "execution_count": 6,
   "metadata": {},
   "outputs": [],
   "source": [
    "barbry_file = 'HCA_Barbry_Grch38_Raw_filter_Norm.h5ad'\n",
    "meyer_file = 'lung.cellxgene.h5ad'"
   ]
  },
  {
   "cell_type": "code",
   "execution_count": 7,
   "metadata": {},
   "outputs": [
    {
     "name": "stderr",
     "output_type": "stream",
     "text": [
      "C:\\Users\\ipmc\\.conda\\envs\\scanpypip\\lib\\site-packages\\anndata\\compat\\__init__.py:158: FutureWarning: Moving element from .uns['neighbors']['distances'] to .obsp['distances'].\n",
      "\n",
      "This is where adjacency matrices should go now.\n",
      "  warn(\n",
      "C:\\Users\\ipmc\\.conda\\envs\\scanpypip\\lib\\site-packages\\anndata\\compat\\__init__.py:158: FutureWarning: Moving element from .uns['neighbors']['connectivities'] to .obsp['connectivities'].\n",
      "\n",
      "This is where adjacency matrices should go now.\n",
      "  warn(\n"
     ]
    }
   ],
   "source": [
    "barbry = anndata.read_h5ad(DATA_PATH + 'HCA_Barbry_Grch38_Raw_filter_Norm.h5ad')\n",
    "meyer = anndata.read_h5ad(DATA_PATH + 'lung.cellxgene.h5ad')"
   ]
  },
  {
   "cell_type": "code",
   "execution_count": 8,
   "metadata": {},
   "outputs": [],
   "source": [
    "a=np.array(barbry.X.todense()[:,0])\n"
   ]
  },
  {
   "cell_type": "code",
   "execution_count": 9,
   "metadata": {},
   "outputs": [],
   "source": [
    "sc.pp.highly_variable_genes(barbry)"
   ]
  },
  {
   "cell_type": "code",
   "execution_count": 10,
   "metadata": {},
   "outputs": [
    {
     "data": {
      "text/html": [
       "<div>\n",
       "<style scoped>\n",
       "    .dataframe tbody tr th:only-of-type {\n",
       "        vertical-align: middle;\n",
       "    }\n",
       "\n",
       "    .dataframe tbody tr th {\n",
       "        vertical-align: top;\n",
       "    }\n",
       "\n",
       "    .dataframe thead th {\n",
       "        text-align: right;\n",
       "    }\n",
       "</style>\n",
       "<table border=\"1\" class=\"dataframe\">\n",
       "  <thead>\n",
       "    <tr style=\"text-align: right;\">\n",
       "      <th></th>\n",
       "      <th>gene_ids</th>\n",
       "      <th>feature_types</th>\n",
       "      <th>genome</th>\n",
       "      <th>n_counts</th>\n",
       "      <th>highly_variable</th>\n",
       "      <th>means</th>\n",
       "      <th>dispersions</th>\n",
       "      <th>dispersions_norm</th>\n",
       "    </tr>\n",
       "  </thead>\n",
       "  <tbody>\n",
       "    <tr>\n",
       "      <th>AL669831.5</th>\n",
       "      <td>ENSG00000237491</td>\n",
       "      <td>Gene Expression</td>\n",
       "      <td>ucagenomix-cellranger-GRCh38-3.0.0</td>\n",
       "      <td>3004.0</td>\n",
       "      <td>False</td>\n",
       "      <td>0.061341</td>\n",
       "      <td>1.173543</td>\n",
       "      <td>-0.641477</td>\n",
       "    </tr>\n",
       "    <tr>\n",
       "      <th>LINC00115</th>\n",
       "      <td>ENSG00000225880</td>\n",
       "      <td>Gene Expression</td>\n",
       "      <td>ucagenomix-cellranger-GRCh38-3.0.0</td>\n",
       "      <td>964.0</td>\n",
       "      <td>False</td>\n",
       "      <td>0.027584</td>\n",
       "      <td>1.389954</td>\n",
       "      <td>-0.191512</td>\n",
       "    </tr>\n",
       "    <tr>\n",
       "      <th>FAM41C</th>\n",
       "      <td>ENSG00000230368</td>\n",
       "      <td>Gene Expression</td>\n",
       "      <td>ucagenomix-cellranger-GRCh38-3.0.0</td>\n",
       "      <td>6935.0</td>\n",
       "      <td>False</td>\n",
       "      <td>0.197905</td>\n",
       "      <td>1.660163</td>\n",
       "      <td>0.370307</td>\n",
       "    </tr>\n",
       "    <tr>\n",
       "      <th>NOC2L</th>\n",
       "      <td>ENSG00000188976</td>\n",
       "      <td>Gene Expression</td>\n",
       "      <td>ucagenomix-cellranger-GRCh38-3.0.0</td>\n",
       "      <td>16862.0</td>\n",
       "      <td>False</td>\n",
       "      <td>0.339094</td>\n",
       "      <td>1.345867</td>\n",
       "      <td>-0.283180</td>\n",
       "    </tr>\n",
       "    <tr>\n",
       "      <th>PLEKHN1</th>\n",
       "      <td>ENSG00000187583</td>\n",
       "      <td>Gene Expression</td>\n",
       "      <td>ucagenomix-cellranger-GRCh38-3.0.0</td>\n",
       "      <td>1767.0</td>\n",
       "      <td>False</td>\n",
       "      <td>0.033787</td>\n",
       "      <td>1.164980</td>\n",
       "      <td>-0.659280</td>\n",
       "    </tr>\n",
       "    <tr>\n",
       "      <th>...</th>\n",
       "      <td>...</td>\n",
       "      <td>...</td>\n",
       "      <td>...</td>\n",
       "      <td>...</td>\n",
       "      <td>...</td>\n",
       "      <td>...</td>\n",
       "      <td>...</td>\n",
       "      <td>...</td>\n",
       "    </tr>\n",
       "    <tr>\n",
       "      <th>AC007325.4</th>\n",
       "      <td>ENSG00000278817</td>\n",
       "      <td>Gene Expression</td>\n",
       "      <td>ucagenomix-cellranger-GRCh38-3.0.0</td>\n",
       "      <td>5882.0</td>\n",
       "      <td>False</td>\n",
       "      <td>0.128567</td>\n",
       "      <td>1.306934</td>\n",
       "      <td>-0.364129</td>\n",
       "    </tr>\n",
       "    <tr>\n",
       "      <th>AC007325.2</th>\n",
       "      <td>ENSG00000277196</td>\n",
       "      <td>Gene Expression</td>\n",
       "      <td>ucagenomix-cellranger-GRCh38-3.0.0</td>\n",
       "      <td>765.0</td>\n",
       "      <td>False</td>\n",
       "      <td>0.023429</td>\n",
       "      <td>1.424258</td>\n",
       "      <td>-0.120188</td>\n",
       "    </tr>\n",
       "    <tr>\n",
       "      <th>AL354822.1</th>\n",
       "      <td>ENSG00000278384</td>\n",
       "      <td>Gene Expression</td>\n",
       "      <td>ucagenomix-cellranger-GRCh38-3.0.0</td>\n",
       "      <td>795.0</td>\n",
       "      <td>False</td>\n",
       "      <td>0.017429</td>\n",
       "      <td>1.275135</td>\n",
       "      <td>-0.430245</td>\n",
       "    </tr>\n",
       "    <tr>\n",
       "      <th>AC004556.1</th>\n",
       "      <td>ENSG00000276345</td>\n",
       "      <td>Gene Expression</td>\n",
       "      <td>ucagenomix-cellranger-GRCh38-3.0.0</td>\n",
       "      <td>3645.0</td>\n",
       "      <td>False</td>\n",
       "      <td>0.101551</td>\n",
       "      <td>1.655506</td>\n",
       "      <td>0.360624</td>\n",
       "    </tr>\n",
       "    <tr>\n",
       "      <th>AC240274.1</th>\n",
       "      <td>ENSG00000271254</td>\n",
       "      <td>Gene Expression</td>\n",
       "      <td>ucagenomix-cellranger-GRCh38-3.0.0</td>\n",
       "      <td>3233.0</td>\n",
       "      <td>False</td>\n",
       "      <td>0.068309</td>\n",
       "      <td>1.267142</td>\n",
       "      <td>-0.446864</td>\n",
       "    </tr>\n",
       "  </tbody>\n",
       "</table>\n",
       "<p>14349 rows × 8 columns</p>\n",
       "</div>"
      ],
      "text/plain": [
       "                   gene_ids    feature_types  \\\n",
       "AL669831.5  ENSG00000237491  Gene Expression   \n",
       "LINC00115   ENSG00000225880  Gene Expression   \n",
       "FAM41C      ENSG00000230368  Gene Expression   \n",
       "NOC2L       ENSG00000188976  Gene Expression   \n",
       "PLEKHN1     ENSG00000187583  Gene Expression   \n",
       "...                     ...              ...   \n",
       "AC007325.4  ENSG00000278817  Gene Expression   \n",
       "AC007325.2  ENSG00000277196  Gene Expression   \n",
       "AL354822.1  ENSG00000278384  Gene Expression   \n",
       "AC004556.1  ENSG00000276345  Gene Expression   \n",
       "AC240274.1  ENSG00000271254  Gene Expression   \n",
       "\n",
       "                                        genome  n_counts  highly_variable  \\\n",
       "AL669831.5  ucagenomix-cellranger-GRCh38-3.0.0    3004.0            False   \n",
       "LINC00115   ucagenomix-cellranger-GRCh38-3.0.0     964.0            False   \n",
       "FAM41C      ucagenomix-cellranger-GRCh38-3.0.0    6935.0            False   \n",
       "NOC2L       ucagenomix-cellranger-GRCh38-3.0.0   16862.0            False   \n",
       "PLEKHN1     ucagenomix-cellranger-GRCh38-3.0.0    1767.0            False   \n",
       "...                                        ...       ...              ...   \n",
       "AC007325.4  ucagenomix-cellranger-GRCh38-3.0.0    5882.0            False   \n",
       "AC007325.2  ucagenomix-cellranger-GRCh38-3.0.0     765.0            False   \n",
       "AL354822.1  ucagenomix-cellranger-GRCh38-3.0.0     795.0            False   \n",
       "AC004556.1  ucagenomix-cellranger-GRCh38-3.0.0    3645.0            False   \n",
       "AC240274.1  ucagenomix-cellranger-GRCh38-3.0.0    3233.0            False   \n",
       "\n",
       "               means  dispersions  dispersions_norm  \n",
       "AL669831.5  0.061341     1.173543         -0.641477  \n",
       "LINC00115   0.027584     1.389954         -0.191512  \n",
       "FAM41C      0.197905     1.660163          0.370307  \n",
       "NOC2L       0.339094     1.345867         -0.283180  \n",
       "PLEKHN1     0.033787     1.164980         -0.659280  \n",
       "...              ...          ...               ...  \n",
       "AC007325.4  0.128567     1.306934         -0.364129  \n",
       "AC007325.2  0.023429     1.424258         -0.120188  \n",
       "AL354822.1  0.017429     1.275135         -0.430245  \n",
       "AC004556.1  0.101551     1.655506          0.360624  \n",
       "AC240274.1  0.068309     1.267142         -0.446864  \n",
       "\n",
       "[14349 rows x 8 columns]"
      ]
     },
     "execution_count": 10,
     "metadata": {},
     "output_type": "execute_result"
    }
   ],
   "source": [
    "barbry.var"
   ]
  },
  {
   "cell_type": "code",
   "execution_count": 11,
   "metadata": {},
   "outputs": [
    {
     "data": {
      "text/plain": [
       "matrix([[0.03265522, 0.01286653, 0.09192908, ..., 0.00902156, 0.04433792,\n",
       "         0.03552148]])"
      ]
     },
     "execution_count": 11,
     "metadata": {},
     "output_type": "execute_result"
    }
   ],
   "source": [
    "barbry.X.todense().mean(axis=0)"
   ]
  },
  {
   "cell_type": "markdown",
   "metadata": {},
   "source": [
    "## Détermination des gènes marqueurs selon plusieurs méthodes"
   ]
  },
  {
   "cell_type": "markdown",
   "metadata": {},
   "source": [
    "On va tester la plupart des méthodes de ranking_genes_group.\n",
    "Pour ce qui est de la spécificité, on peut en faire plusieurs cat. Dans un premier temps, on garde les high et les unique et on regarde ce que ça donne (combien yen a etc...). On pourra ensuite jeter un coup d'oeil aux multi spé mais yaura surement besoin de la métrique magique."
   ]
  },
  {
   "cell_type": "code",
   "execution_count": 12,
   "metadata": {},
   "outputs": [
    {
     "name": "stderr",
     "output_type": "stream",
     "text": [
      "C:\\Users\\ipmc\\.conda\\envs\\scanpypip\\lib\\site-packages\\anndata\\_core\\anndata.py:1192: FutureWarning: is_categorical is deprecated and will be removed in a future version.  Use is_categorical_dtype instead\n",
      "  if is_string_dtype(df[key]) and not is_categorical(df[key])\n"
     ]
    }
   ],
   "source": [
    "sc.tl.rank_genes_groups(barbry, 'CellType', method='t-test')\n",
    "#sc.pl.rank_genes_groups(barbry, n_genes=20, sharey=False)\n",
    "\n",
    "ttest_de =  copy.deepcopy(barbry.uns['rank_genes_groups'])"
   ]
  },
  {
   "cell_type": "code",
   "execution_count": 13,
   "metadata": {},
   "outputs": [],
   "source": [
    "sc.tl.rank_genes_groups(barbry, 'CellType', method='wilcoxon')\n",
    "#sc.pl.rank_genes_groups(barbry, n_genes=20, sharey=False)\n",
    "\n",
    "wilco_de = copy.deepcopy(barbry.uns['rank_genes_groups'])"
   ]
  },
  {
   "cell_type": "code",
   "execution_count": null,
   "metadata": {},
   "outputs": [],
   "source": []
  },
  {
   "cell_type": "code",
   "execution_count": 14,
   "metadata": {},
   "outputs": [],
   "source": [
    "#sc.tl.rank_genes_groups(barbry, 'CellType', method='logreg')\n",
    "#sc.pl.rank_genes_groups(barbry, n_genes=20, sharey=False)\n",
    "\n",
    "#logreg_de = copy.deepcopy(barbry.uns['rank_genes_groups'])"
   ]
  },
  {
   "cell_type": "code",
   "execution_count": 15,
   "metadata": {},
   "outputs": [
    {
     "data": {
      "text/plain": [
       "dtype((numpy.record, [('AT1', 'O'), ('AT2', 'O'), ('B cells', 'O'), ('Basal', 'O'), ('Brush cells', 'O'), ('Cycling Basal', 'O'), ('Dendritic', 'O'), ('Deuterosomal', 'O'), ('Endothelial', 'O'), ('Fibroblast', 'O'), ('Ionocyte', 'O'), ('LT/NK', 'O'), ('Macrophage', 'O'), ('Mast cells', 'O'), ('Monocyte', 'O'), ('Multiciliated', 'O'), ('Multiciliated N', 'O'), ('PNEC', 'O'), ('Pericyte', 'O'), ('Plasma cells', 'O'), ('Precursor', 'O'), ('SMG Goblet', 'O'), ('Secretory', 'O'), ('Secretory N', 'O'), ('Serous', 'O'), ('Smooth muscle', 'O'), ('Suprabasal', 'O'), ('Suprabasal N', 'O')]))"
      ]
     },
     "execution_count": 15,
     "metadata": {},
     "output_type": "execute_result"
    }
   ],
   "source": [
    "barbry.uns['rank_genes_groups']['names'].dtype"
   ]
  },
  {
   "cell_type": "code",
   "execution_count": 16,
   "metadata": {},
   "outputs": [],
   "source": [
    "def dict_to_df(DE_dico, n_genes):\n",
    "    celltypes = barbry.obs['CellType'].cat.categories\n",
    "    df = pd.DataFrame(index = np.linspace(1,n_genes,n_genes)  , columns = celltypes )\n",
    "    for celltype in celltypes:\n",
    "        df[celltype] = DE_dico['names'][celltype][0:n_genes]\n",
    "    return df"
   ]
  },
  {
   "cell_type": "code",
   "execution_count": 17,
   "metadata": {},
   "outputs": [],
   "source": [
    "wilco30 = dict_to_df(wilco_de,30)\n",
    "ttest30 = dict_to_df(ttest_de,30)"
   ]
  },
  {
   "cell_type": "code",
   "execution_count": 18,
   "metadata": {},
   "outputs": [
    {
     "name": "stderr",
     "output_type": "stream",
     "text": [
      "C:\\Users\\ipmc\\.conda\\envs\\scanpypip\\lib\\site-packages\\pandas\\core\\frame.py:1485: FutureWarning: Using short name for 'orient' is deprecated. Only the options: ('dict', list, 'series', 'split', 'records', 'index') will be used in a future version. Use one of the above to silence this warning.\n",
      "  warnings.warn(\n"
     ]
    }
   ],
   "source": [
    "wilco30_dict = wilco30.to_dict(orient='lines')\n",
    "ttest30_dict = ttest30.to_dict(orient='lines')"
   ]
  },
  {
   "cell_type": "markdown",
   "metadata": {},
   "source": [
    "# Load specificity"
   ]
  },
  {
   "cell_type": "markdown",
   "metadata": {},
   "source": [
    "This should now be included to scanpy"
   ]
  },
  {
   "cell_type": "code",
   "execution_count": 19,
   "metadata": {},
   "outputs": [],
   "source": [
    "def find_max_celltype(gene,adata,partition_key=\"CellType\"):\n",
    "    get_average_celltype_counts(adata , partition_key = partition_key)\n",
    "    gene_index = int(np.where(adata.var.index == gene)[0])\n",
    "    max_celltype_index = np.argmax(adata.varm['ave_celltype_counts_' + partition_key][gene_index,:])\n",
    "    max_celltype = list(adata.obs[partition_key].cat.categories)[max_celltype_index]\n",
    "    return(max_celltype)\n",
    "\n",
    "def full_spe_matrix(adata, partition_key: str = 'CellType') :\n",
    "    shannon = get_spe(adata, spe_metric='shannon', partition_key=partition_key)\n",
    "    tau = get_spe(adata, spe_metric='tau', partition_key=partition_key)\n",
    "    gini = get_spe(adata, spe_metric='gini', partition_key=partition_key)\n",
    "    one_v_max = one_v_max_matrix(adata,partition_key=partition_key)\n",
    "    spe_matrix = pd.DataFrame(columns=['gene',\n",
    "                                       'most expressed celltype',\n",
    "                                       'one_v_max',\n",
    "                                       'shannon',\n",
    "                                       'tau',\n",
    "                                       'gini'])\n",
    "    for gene in adata.var.index :\n",
    "        spe_matrix.loc[gene,:] = [gene,\n",
    "                                  find_max_celltype(gene,adata,partition_key=partition_key),\n",
    "                                  max(one_v_max[gene]), \n",
    "                                  shannon[gene],\n",
    "                                  tau[gene],\n",
    "                                  gini[gene]]\n",
    "    return spe_matrix"
   ]
  },
  {
   "cell_type": "code",
   "execution_count": 20,
   "metadata": {},
   "outputs": [
    {
     "name": "stderr",
     "output_type": "stream",
     "text": [
      "C:\\Users\\ipmc\\.conda\\envs\\scanpypip\\lib\\site-packages\\anndata\\_core\\anndata.py:1094: FutureWarning: is_categorical is deprecated and will be removed in a future version.  Use is_categorical_dtype instead\n",
      "  if not is_categorical(df_full[k]):\n"
     ]
    }
   ],
   "source": [
    "spe_matrix = full_spe_matrix(barbry, partition_key='CellType')\n",
    "clf_Deprez_366obs = load(MODEL_PATH + 'clf_train_Deprez_366obs.joblib')\n",
    "spe_type = clf_Deprez_366obs.predict(spe_matrix[['one_v_max','shannon','tau','gini']])\n",
    "spec_dict={'0':'equirep','1':'low','2':'multi-spec','3':'high','4':'unique'}\n",
    "spe_matrix['spe_type'] = pd.Series(spe_type, index = spe_matrix.index).apply(str).replace(spec_dict)"
   ]
  },
  {
   "cell_type": "code",
   "execution_count": 21,
   "metadata": {},
   "outputs": [
    {
     "data": {
      "text/plain": [
       "(14349, 28)"
      ]
     },
     "execution_count": 21,
     "metadata": {},
     "output_type": "execute_result"
    }
   ],
   "source": [
    "barbry.varm['ave_celltype_counts_CellType'].shape"
   ]
  },
  {
   "cell_type": "code",
   "execution_count": 22,
   "metadata": {},
   "outputs": [
    {
     "data": {
      "text/html": [
       "<div>\n",
       "<style scoped>\n",
       "    .dataframe tbody tr th:only-of-type {\n",
       "        vertical-align: middle;\n",
       "    }\n",
       "\n",
       "    .dataframe tbody tr th {\n",
       "        vertical-align: top;\n",
       "    }\n",
       "\n",
       "    .dataframe thead th {\n",
       "        text-align: right;\n",
       "    }\n",
       "</style>\n",
       "<table border=\"1\" class=\"dataframe\">\n",
       "  <thead>\n",
       "    <tr style=\"text-align: right;\">\n",
       "      <th></th>\n",
       "      <th>gene</th>\n",
       "      <th>most expressed celltype</th>\n",
       "      <th>one_v_max</th>\n",
       "      <th>shannon</th>\n",
       "      <th>tau</th>\n",
       "      <th>gini</th>\n",
       "      <th>spe_type</th>\n",
       "    </tr>\n",
       "  </thead>\n",
       "  <tbody>\n",
       "    <tr>\n",
       "      <th>AL669831.5</th>\n",
       "      <td>AL669831.5</td>\n",
       "      <td>AT2</td>\n",
       "      <td>1.56192</td>\n",
       "      <td>0.637306</td>\n",
       "      <td>0.742319</td>\n",
       "      <td>0.391246</td>\n",
       "      <td>low</td>\n",
       "    </tr>\n",
       "    <tr>\n",
       "      <th>LINC00115</th>\n",
       "      <td>LINC00115</td>\n",
       "      <td>PNEC</td>\n",
       "      <td>1.22682</td>\n",
       "      <td>0.628045</td>\n",
       "      <td>0.626468</td>\n",
       "      <td>0.399453</td>\n",
       "      <td>equirep</td>\n",
       "    </tr>\n",
       "    <tr>\n",
       "      <th>FAM41C</th>\n",
       "      <td>FAM41C</td>\n",
       "      <td>Deuterosomal</td>\n",
       "      <td>1.12528</td>\n",
       "      <td>0.637185</td>\n",
       "      <td>0.663437</td>\n",
       "      <td>0.393725</td>\n",
       "      <td>equirep</td>\n",
       "    </tr>\n",
       "    <tr>\n",
       "      <th>NOC2L</th>\n",
       "      <td>NOC2L</td>\n",
       "      <td>Precursor</td>\n",
       "      <td>1.46304</td>\n",
       "      <td>0.673486</td>\n",
       "      <td>0.569871</td>\n",
       "      <td>0.219136</td>\n",
       "      <td>equirep</td>\n",
       "    </tr>\n",
       "    <tr>\n",
       "      <th>PLEKHN1</th>\n",
       "      <td>PLEKHN1</td>\n",
       "      <td>Suprabasal N</td>\n",
       "      <td>1.83215</td>\n",
       "      <td>0.519458</td>\n",
       "      <td>0.867355</td>\n",
       "      <td>0.66531</td>\n",
       "      <td>low</td>\n",
       "    </tr>\n",
       "    <tr>\n",
       "      <th>...</th>\n",
       "      <td>...</td>\n",
       "      <td>...</td>\n",
       "      <td>...</td>\n",
       "      <td>...</td>\n",
       "      <td>...</td>\n",
       "      <td>...</td>\n",
       "      <td>...</td>\n",
       "    </tr>\n",
       "    <tr>\n",
       "      <th>AC007325.4</th>\n",
       "      <td>AC007325.4</td>\n",
       "      <td>Deuterosomal</td>\n",
       "      <td>3.16325</td>\n",
       "      <td>0.538201</td>\n",
       "      <td>0.907686</td>\n",
       "      <td>0.615957</td>\n",
       "      <td>high</td>\n",
       "    </tr>\n",
       "    <tr>\n",
       "      <th>AC007325.2</th>\n",
       "      <td>AC007325.2</td>\n",
       "      <td>Cycling Basal</td>\n",
       "      <td>1.07778</td>\n",
       "      <td>0.414222</td>\n",
       "      <td>0.886558</td>\n",
       "      <td>0.792062</td>\n",
       "      <td>multi-spec</td>\n",
       "    </tr>\n",
       "    <tr>\n",
       "      <th>AL354822.1</th>\n",
       "      <td>AL354822.1</td>\n",
       "      <td>Ionocyte</td>\n",
       "      <td>1.26802</td>\n",
       "      <td>0.604515</td>\n",
       "      <td>0.729433</td>\n",
       "      <td>0.467284</td>\n",
       "      <td>equirep</td>\n",
       "    </tr>\n",
       "    <tr>\n",
       "      <th>AC004556.1</th>\n",
       "      <td>AC004556.1</td>\n",
       "      <td>Precursor</td>\n",
       "      <td>1.42064</td>\n",
       "      <td>0.578837</td>\n",
       "      <td>0.840537</td>\n",
       "      <td>0.550767</td>\n",
       "      <td>multi-spec</td>\n",
       "    </tr>\n",
       "    <tr>\n",
       "      <th>AC240274.1</th>\n",
       "      <td>AC240274.1</td>\n",
       "      <td>Deuterosomal</td>\n",
       "      <td>1.93247</td>\n",
       "      <td>0.608708</td>\n",
       "      <td>0.832561</td>\n",
       "      <td>0.461009</td>\n",
       "      <td>multi-spec</td>\n",
       "    </tr>\n",
       "  </tbody>\n",
       "</table>\n",
       "<p>14349 rows × 7 columns</p>\n",
       "</div>"
      ],
      "text/plain": [
       "                  gene most expressed celltype one_v_max   shannon       tau  \\\n",
       "AL669831.5  AL669831.5                     AT2   1.56192  0.637306  0.742319   \n",
       "LINC00115    LINC00115                    PNEC   1.22682  0.628045  0.626468   \n",
       "FAM41C          FAM41C            Deuterosomal   1.12528  0.637185  0.663437   \n",
       "NOC2L            NOC2L               Precursor   1.46304  0.673486  0.569871   \n",
       "PLEKHN1        PLEKHN1            Suprabasal N   1.83215  0.519458  0.867355   \n",
       "...                ...                     ...       ...       ...       ...   \n",
       "AC007325.4  AC007325.4            Deuterosomal   3.16325  0.538201  0.907686   \n",
       "AC007325.2  AC007325.2           Cycling Basal   1.07778  0.414222  0.886558   \n",
       "AL354822.1  AL354822.1                Ionocyte   1.26802  0.604515  0.729433   \n",
       "AC004556.1  AC004556.1               Precursor   1.42064  0.578837  0.840537   \n",
       "AC240274.1  AC240274.1            Deuterosomal   1.93247  0.608708  0.832561   \n",
       "\n",
       "                gini    spe_type  \n",
       "AL669831.5  0.391246         low  \n",
       "LINC00115   0.399453     equirep  \n",
       "FAM41C      0.393725     equirep  \n",
       "NOC2L       0.219136     equirep  \n",
       "PLEKHN1      0.66531         low  \n",
       "...              ...         ...  \n",
       "AC007325.4  0.615957        high  \n",
       "AC007325.2  0.792062  multi-spec  \n",
       "AL354822.1  0.467284     equirep  \n",
       "AC004556.1  0.550767  multi-spec  \n",
       "AC240274.1  0.461009  multi-spec  \n",
       "\n",
       "[14349 rows x 7 columns]"
      ]
     },
     "execution_count": 22,
     "metadata": {},
     "output_type": "execute_result"
    }
   ],
   "source": [
    "spe_matrix"
   ]
  },
  {
   "cell_type": "code",
   "execution_count": 23,
   "metadata": {},
   "outputs": [
    {
     "data": {
      "text/plain": [
       "<seaborn.axisgrid.FacetGrid at 0x21b6ed0e340>"
      ]
     },
     "execution_count": 23,
     "metadata": {},
     "output_type": "execute_result"
    },
    {
     "data": {
      "image/png": "[encoded data removed]",
      "text/plain": [
       "<Figure size 360x360 with 1 Axes>"
      ]
     },
     "metadata": {
      "needs_background": "light"
     },
     "output_type": "display_data"
    }
   ],
   "source": [
    "sns.catplot(x='spe_type',kind='count',data=spe_matrix)"
   ]
  },
  {
   "cell_type": "markdown",
   "metadata": {},
   "source": [
    "### Get specificity markers - Direct Method"
   ]
  },
  {
   "cell_type": "markdown",
   "metadata": {},
   "source": [
    "Select unique & high to get started"
   ]
  },
  {
   "cell_type": "code",
   "execution_count": 24,
   "metadata": {},
   "outputs": [],
   "source": [
    "spe_genes = spe_matrix.loc[spe_matrix['spe_type'].isin(['unique','high']),:]\n",
    "spe_genes = spe_genes[['gene','most expressed celltype']]"
   ]
  },
  {
   "cell_type": "code",
   "execution_count": 25,
   "metadata": {},
   "outputs": [
    {
     "data": {
      "text/html": [
       "<div>\n",
       "<style scoped>\n",
       "    .dataframe tbody tr th:only-of-type {\n",
       "        vertical-align: middle;\n",
       "    }\n",
       "\n",
       "    .dataframe tbody tr th {\n",
       "        vertical-align: top;\n",
       "    }\n",
       "\n",
       "    .dataframe thead th {\n",
       "        text-align: right;\n",
       "    }\n",
       "</style>\n",
       "<table border=\"1\" class=\"dataframe\">\n",
       "  <thead>\n",
       "    <tr style=\"text-align: right;\">\n",
       "      <th></th>\n",
       "      <th>gene</th>\n",
       "      <th>most expressed celltype</th>\n",
       "    </tr>\n",
       "  </thead>\n",
       "  <tbody>\n",
       "    <tr>\n",
       "      <th>MXRA8</th>\n",
       "      <td>MXRA8</td>\n",
       "      <td>Fibroblast</td>\n",
       "    </tr>\n",
       "    <tr>\n",
       "      <th>AL691432.2</th>\n",
       "      <td>AL691432.2</td>\n",
       "      <td>PNEC</td>\n",
       "    </tr>\n",
       "    <tr>\n",
       "      <th>PRKCZ</th>\n",
       "      <td>PRKCZ</td>\n",
       "      <td>AT1</td>\n",
       "    </tr>\n",
       "    <tr>\n",
       "      <th>DFFB</th>\n",
       "      <td>DFFB</td>\n",
       "      <td>AT1</td>\n",
       "    </tr>\n",
       "    <tr>\n",
       "      <th>PLEKHG5</th>\n",
       "      <td>PLEKHG5</td>\n",
       "      <td>PNEC</td>\n",
       "    </tr>\n",
       "    <tr>\n",
       "      <th>...</th>\n",
       "      <td>...</td>\n",
       "      <td>...</td>\n",
       "    </tr>\n",
       "    <tr>\n",
       "      <th>COL6A1</th>\n",
       "      <td>COL6A1</td>\n",
       "      <td>Fibroblast</td>\n",
       "    </tr>\n",
       "    <tr>\n",
       "      <th>COL6A2</th>\n",
       "      <td>COL6A2</td>\n",
       "      <td>Fibroblast</td>\n",
       "    </tr>\n",
       "    <tr>\n",
       "      <th>S100B</th>\n",
       "      <td>S100B</td>\n",
       "      <td>Serous</td>\n",
       "    </tr>\n",
       "    <tr>\n",
       "      <th>AC011043.1</th>\n",
       "      <td>AC011043.1</td>\n",
       "      <td>PNEC</td>\n",
       "    </tr>\n",
       "    <tr>\n",
       "      <th>AC007325.4</th>\n",
       "      <td>AC007325.4</td>\n",
       "      <td>Deuterosomal</td>\n",
       "    </tr>\n",
       "  </tbody>\n",
       "</table>\n",
       "<p>1454 rows × 2 columns</p>\n",
       "</div>"
      ],
      "text/plain": [
       "                  gene most expressed celltype\n",
       "MXRA8            MXRA8              Fibroblast\n",
       "AL691432.2  AL691432.2                    PNEC\n",
       "PRKCZ            PRKCZ                     AT1\n",
       "DFFB              DFFB                     AT1\n",
       "PLEKHG5        PLEKHG5                    PNEC\n",
       "...                ...                     ...\n",
       "COL6A1          COL6A1              Fibroblast\n",
       "COL6A2          COL6A2              Fibroblast\n",
       "S100B            S100B                  Serous\n",
       "AC011043.1  AC011043.1                    PNEC\n",
       "AC007325.4  AC007325.4            Deuterosomal\n",
       "\n",
       "[1454 rows x 2 columns]"
      ]
     },
     "execution_count": 25,
     "metadata": {},
     "output_type": "execute_result"
    }
   ],
   "source": [
    "spe_genes "
   ]
  },
  {
   "cell_type": "code",
   "execution_count": 29,
   "metadata": {},
   "outputs": [],
   "source": [
    "spec_gene_groups = spe_genes.groupby('most expressed celltype')"
   ]
  },
  {
   "cell_type": "code",
   "execution_count": 30,
   "metadata": {},
   "outputs": [],
   "source": [
    "n_genes_spec = {k: len(table.index) for k, table in spec_gene_groups}"
   ]
  },
  {
   "cell_type": "code",
   "execution_count": 31,
   "metadata": {},
   "outputs": [],
   "source": [
    "group_size = pd.DataFrame(barbry.obs.groupby('CellType').size(),columns = ['group_size'])"
   ]
  },
  {
   "cell_type": "code",
   "execution_count": 32,
   "metadata": {},
   "outputs": [
    {
     "data": {
      "text/plain": [
       "27"
      ]
     },
     "execution_count": 32,
     "metadata": {},
     "output_type": "execute_result"
    }
   ],
   "source": [
    "len(n_genes_spec.keys())"
   ]
  },
  {
   "cell_type": "code",
   "execution_count": null,
   "metadata": {},
   "outputs": [],
   "source": [
    "to_plot=group_size.join(n_genes_spec).sort_values('group_size')\n",
    "sns.catplot(x='gene',y='group_size',data=to_plot,s=15,height=11,aspect=1)\n",
    "plt.yscale('log')"
   ]
  },
  {
   "cell_type": "code",
   "execution_count": 38,
   "metadata": {},
   "outputs": [],
   "source": [
    "spec_dict = {k: list(table.index) for k, table in spec_gene_groups}"
   ]
  },
  {
   "cell_type": "code",
   "execution_count": null,
   "metadata": {},
   "outputs": [],
   "source": [
    "spec_dict"
   ]
  },
  {
   "cell_type": "code",
   "execution_count": null,
   "metadata": {},
   "outputs": [],
   "source": [
    "sns.catplot(n_genes_spec,group_size)"
   ]
  },
  {
   "cell_type": "markdown",
   "metadata": {},
   "source": [
    "# Upset Plots"
   ]
  },
  {
   "cell_type": "code",
   "execution_count": null,
   "metadata": {},
   "outputs": [],
   "source": [
    "spec_dict\n",
    "ttest30\n",
    "wilco30"
   ]
  },
  {
   "cell_type": "code",
   "execution_count": null,
   "metadata": {},
   "outputs": [],
   "source": [
    "def celltype_to_plot(celltype):\n",
    "    ct_dict = {'spec' : spec_dict[celltype],\n",
    "               'ttest' : ttest30[celltype],\n",
    "               'wilco' : wilco30[celltype]}\n",
    "    ct_dict = upsetplot.from_contents(ct_dict)\n",
    "    return ct_dict"
   ]
  },
  {
   "cell_type": "code",
   "execution_count": null,
   "metadata": {},
   "outputs": [],
   "source": [
    "to_plot_AT1 = celltype_to_plot('AT1')"
   ]
  },
  {
   "cell_type": "code",
   "execution_count": null,
   "metadata": {},
   "outputs": [],
   "source": [
    "f = upsetplot.plot(to_plot_AT1)"
   ]
  },
  {
   "cell_type": "code",
   "execution_count": null,
   "metadata": {},
   "outputs": [],
   "source": [
    "i=0\n",
    "for celltype in spec_dict.keys():\n",
    "    to_plot = celltype_to_plot(celltype)\n",
    "    upsetplot.plot(to_plot)\n",
    "    plt.title(celltype)\n",
    "    \n",
    "    "
   ]
  },
  {
   "cell_type": "code",
   "execution_count": null,
   "metadata": {},
   "outputs": [],
   "source": []
  },
  {
   "cell_type": "code",
   "execution_count": null,
   "metadata": {},
   "outputs": [],
   "source": [
    "celltypes = barbry.obs['CellType'].cat.categories\n",
    "\n",
    "for cell in celltypes:\n",
    "    if sum(adata.obs[partition_key] == cell) != 0 :\n",
    "        reduced_adata = adata[adata.obs[partition_key] == cell, :]\n",
    "        mean_expr = np.asarray(reduced_adata.X.mean(axis=0))"
   ]
  },
  {
   "cell_type": "code",
   "execution_count": null,
   "metadata": {},
   "outputs": [],
   "source": []
  },
  {
   "cell_type": "code",
   "execution_count": null,
   "metadata": {},
   "outputs": [],
   "source": []
  },
  {
   "cell_type": "code",
   "execution_count": null,
   "metadata": {},
   "outputs": [],
   "source": []
  },
  {
   "cell_type": "code",
   "execution_count": null,
   "metadata": {},
   "outputs": [],
   "source": []
  }
 ],
 "metadata": {
  "kernelspec": {
   "display_name": "Python (scanpypip)",
   "language": "python",
   "name": "scanpypip"
  },
  "language_info": {
   "codemirror_mode": {
    "name": "ipython",
    "version": 3
   },
   "file_extension": ".py",
   "mimetype": "text/x-python",
   "name": "python",
   "nbconvert_exporter": "python",
   "pygments_lexer": "ipython3",
   "version": "3.8.5"
  }
 },
 "nbformat": 4,
 "nbformat_minor": 4
}
