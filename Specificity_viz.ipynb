{
 "cells": [
  {
   "cell_type": "code",
   "execution_count": 195,
   "metadata": {},
   "outputs": [],
   "source": [
    "import scanpy as sc\n",
    "import os\n",
    "import anndata\n",
    "import pandas as pd\n",
    "import ipywidgets as widgets\n",
    "from IPython.display import display\n",
    "import matplotlib.pyplot as plt\n",
    "from scanpy.metrics.specificity.plot import marker_genes_distribution, one_v_max_genelist\n",
    "import numpy as np"
   ]
  },
  {
   "cell_type": "markdown",
   "metadata": {},
   "source": [
    "Load data"
   ]
  },
  {
   "cell_type": "code",
   "execution_count": 49,
   "metadata": {},
   "outputs": [],
   "source": [
    "DATA_PATH = r'data/'"
   ]
  },
  {
   "cell_type": "code",
   "execution_count": 50,
   "metadata": {},
   "outputs": [
    {
     "name": "stderr",
     "output_type": "stream",
     "text": [
      "C:\\Users\\ipmc\\.conda\\envs\\scanpypip\\lib\\site-packages\\anndata\\compat\\__init__.py:158: FutureWarning: Moving element from .uns['neighbors']['distances'] to .obsp['distances'].\n",
      "\n",
      "This is where adjacency matrices should go now.\n",
      "  warn(\n",
      "C:\\Users\\ipmc\\.conda\\envs\\scanpypip\\lib\\site-packages\\anndata\\compat\\__init__.py:158: FutureWarning: Moving element from .uns['neighbors']['connectivities'] to .obsp['connectivities'].\n",
      "\n",
      "This is where adjacency matrices should go now.\n",
      "  warn(\n"
     ]
    }
   ],
   "source": [
    "count_file = 'HCA_Barbry_Grch38_Raw_filter_Norm.h5ad'\n",
    "adata = anndata.read_h5ad(DATA_PATH + count_file)"
   ]
  },
  {
   "cell_type": "code",
   "execution_count": 51,
   "metadata": {},
   "outputs": [
    {
     "data": {
      "text/plain": [
       "Index(['AT1', 'AT2', 'B cells', 'Basal', 'Brush cells', 'Cycling Basal',\n",
       "       'Dendritic', 'Deuterosomal', 'Endothelial', 'Fibroblast', 'Ionocyte',\n",
       "       'LT/NK', 'Macrophage', 'Mast cells', 'Monocyte', 'Multiciliated',\n",
       "       'Multiciliated N', 'PNEC', 'Pericyte', 'Plasma cells', 'Precursor',\n",
       "       'SMG Goblet', 'Secretory', 'Secretory N', 'Serous', 'Smooth muscle',\n",
       "       'Suprabasal', 'Suprabasal N'],\n",
       "      dtype='object')"
      ]
     },
     "execution_count": 51,
     "metadata": {},
     "output_type": "execute_result"
    }
   ],
   "source": [
    "adata.obs['CellType'].cat.categories"
   ]
  },
  {
   "cell_type": "code",
   "execution_count": 125,
   "metadata": {},
   "outputs": [],
   "source": [
    "specs = pd.read_csv(DATA_PATH + 'genes_spec_pred_V1', index_col = 'gene')"
   ]
  },
  {
   "cell_type": "markdown",
   "metadata": {},
   "source": [
    "Choose your Markers"
   ]
  },
  {
   "cell_type": "code",
   "execution_count": 155,
   "metadata": {},
   "outputs": [],
   "source": [
    "marker_file = 'MarkerCells_Christophe.csv'\n",
    "markers = pd.read_csv(DATA_PATH + marker_file, sep=';')\n",
    "celltypes = markers.columns"
   ]
  },
  {
   "cell_type": "code",
   "execution_count": 156,
   "metadata": {},
   "outputs": [],
   "source": [
    "marker_file = 'Markers_Meyer_CT_Deprez.csv'\n",
    "markers = pd.read_csv(DATA_PATH + marker_file, sep=';')\n",
    "celltypes = markers.columns"
   ]
  },
  {
   "cell_type": "markdown",
   "metadata": {},
   "source": [
    "Visualization - celltype"
   ]
  },
  {
   "cell_type": "code",
   "execution_count": 157,
   "metadata": {},
   "outputs": [],
   "source": [
    "dropdown_celltype = widgets.Dropdown(\n",
    "    options=celltypes,\n",
    "    value='Basal',\n",
    "    description='CellType:',\n",
    "    disabled=False,\n",
    ")"
   ]
  },
  {
   "cell_type": "code",
   "execution_count": 158,
   "metadata": {},
   "outputs": [],
   "source": [
    "output_marker = widgets.Output()"
   ]
  },
  {
   "cell_type": "code",
   "execution_count": 159,
   "metadata": {},
   "outputs": [],
   "source": [
    "def show_spec_distrib(change):\n",
    "    output_marker.clear_output()\n",
    "    with output_marker :\n",
    "        spec_markers=markers[change.new].dropna()\n",
    "        found_markers=spec_markers[spec_markers.isin(adata.var_names)]\n",
    "        not_found=spec_markers[~spec_markers.isin(adata.var_names)]\n",
    "        if not not_found.empty:\n",
    "            print('Gene(s) not found : ' + ','.join(not_found))\n",
    "        print(specs.loc[found_markers,'spec_type'])\n",
    "        marker_genes_distribution(adata=adata,\n",
    "                                  gene_list=spec_markers,\n",
    "                                  celltype=change.new,\n",
    "                                  partition_key='CellType')\n",
    "        one_v_max_genelist(adata=adata,\n",
    "                           gene_list=spec_markers,\n",
    "                           partition_key='CellType')\n",
    "        sc.pl.umap(adata=adata, color=found_markers, color_map = 'jet')"
   ]
  },
  {
   "cell_type": "code",
   "execution_count": 160,
   "metadata": {},
   "outputs": [
    {
     "data": {
      "application/vnd.jupyter.widget-view+json": {
       "model_id": "8b54c4a4823e468abf2a7d5a2ce112f0",
       "version_major": 2,
       "version_minor": 0
      },
      "text/plain": [
       "Dropdown(description='CellType:', index=17, options=('Macrophage', 'LT_NK', 'Monocyte', 'Neuroendocrine', 'Mes…"
      ]
     },
     "metadata": {},
     "output_type": "display_data"
    }
   ],
   "source": [
    "dropdown_celltype.observe(show_spec_distrib,names='value')\n",
    "display(dropdown_celltype)"
   ]
  },
  {
   "cell_type": "code",
   "execution_count": 161,
   "metadata": {},
   "outputs": [
    {
     "data": {
      "application/vnd.jupyter.widget-view+json": {
       "model_id": "cf1eb14d1b5047ada8293f8fca5b1779",
       "version_major": 2,
       "version_minor": 0
      },
      "text/plain": [
       "Output()"
      ]
     },
     "metadata": {},
     "output_type": "display_data"
    }
   ],
   "source": [
    "display(output_marker)"
   ]
  },
  {
   "cell_type": "markdown",
   "metadata": {},
   "source": [
    "Vizualisation - genes"
   ]
  },
  {
   "cell_type": "code",
   "execution_count": 218,
   "metadata": {},
   "outputs": [],
   "source": [
    "combobox_genes = widgets.Combobox(\n",
    "    options=list(adata.var.index),\n",
    "    placeholder='Type a gene',\n",
    "    description='Gene:',\n",
    "    ensure_option=True,\n",
    "    disabled=False,\n",
    ")"
   ]
  },
  {
   "cell_type": "code",
   "execution_count": 219,
   "metadata": {},
   "outputs": [],
   "source": [
    "output_gene=widgets.Output()"
   ]
  },
  {
   "cell_type": "code",
   "execution_count": 220,
   "metadata": {},
   "outputs": [],
   "source": [
    "def show_spec_gene(change):\n",
    "    output_gene.clear_output()\n",
    "    with output_gene :\n",
    "        gene_index = int(np.where(adata.var.index == change.new)[0])\n",
    "        max_celltype_index = np.argmax(adata.varm['ave_celltype_counts_CellType'][gene_index,:])\n",
    "        max_celltype = list(adata.obs['CellType'].cat.categories)[max_celltype_index]\n",
    "        print('Specificity type : ' + str(specs.loc[change.new,'spec_type']) )\n",
    "        marker_genes_distribution(adata=adata,\n",
    "                                  gene_list=[change.new],\n",
    "                                  celltype=max_celltype,\n",
    "                                  partition_key='CellType')\n",
    "        one_v_max_genelist(adata=adata,\n",
    "                           gene_list=[change.new],\n",
    "                           partition_key='CellType')\n",
    "        sc.pl.umap(adata=adata, color=change.new, color_map = 'jet')"
   ]
  },
  {
   "cell_type": "code",
   "execution_count": 221,
   "metadata": {},
   "outputs": [
    {
     "data": {
      "application/vnd.jupyter.widget-view+json": {
       "model_id": "1cca42a813844f4dad0ee153c4dc0323",
       "version_major": 2,
       "version_minor": 0
      },
      "text/plain": [
       "Combobox(value='', description='Gene:', ensure_option=True, options=('AL669831.5', 'LINC00115', 'FAM41C', 'NOC…"
      ]
     },
     "metadata": {},
     "output_type": "display_data"
    }
   ],
   "source": [
    "combobox_genes.observe(show_spec_gene,names='value')\n",
    "display(combobox_genes)"
   ]
  },
  {
   "cell_type": "code",
   "execution_count": 222,
   "metadata": {},
   "outputs": [
    {
     "data": {
      "application/vnd.jupyter.widget-view+json": {
       "model_id": "635243a2ea8147c9907de8d6a61f23ee",
       "version_major": 2,
       "version_minor": 0
      },
      "text/plain": [
       "Output()"
      ]
     },
     "metadata": {},
     "output_type": "display_data"
    }
   ],
   "source": [
    "display(output_gene)"
   ]
  },
  {
   "cell_type": "code",
   "execution_count": null,
   "metadata": {},
   "outputs": [],
   "source": []
  },
  {
   "cell_type": "code",
   "execution_count": null,
   "metadata": {},
   "outputs": [],
   "source": []
  },
  {
   "cell_type": "code",
   "execution_count": null,
   "metadata": {},
   "outputs": [],
   "source": []
  }
 ],
 "metadata": {
  "kernelspec": {
   "display_name": "scanpypip",
   "language": "python",
   "name": "scanpypip"
  },
  "language_info": {
   "codemirror_mode": {
    "name": "ipython",
    "version": 3
   },
   "file_extension": ".py",
   "mimetype": "text/x-python",
   "name": "python",
   "nbconvert_exporter": "python",
   "pygments_lexer": "ipython3",
   "version": "3.8.5"
  }
 },
 "nbformat": 4,
 "nbformat_minor": 4
}
