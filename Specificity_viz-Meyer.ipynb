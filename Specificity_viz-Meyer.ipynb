{
 "cells": [
  {
   "cell_type": "code",
   "execution_count": 1,
   "metadata": {},
   "outputs": [],
   "source": [
    "import scanpy as sc\n",
    "import os\n",
    "import anndata\n",
    "import pandas as pd\n",
    "import ipywidgets as widgets\n",
    "from IPython.display import display\n",
    "import matplotlib.pyplot as plt\n",
    "from scanpy.metrics.specificity.plot import marker_genes_distribution, one_v_max_genelist\n",
    "import numpy as np\n",
    "from scanpy.metrics.specificity.get_data import get_average_celltype_counts, get_spe\n",
    "from scanpy.metrics.specificity.compute import one_v_max_matrix\n",
    "from joblib import dump, load\n",
    "import pickle"
   ]
  },
  {
   "cell_type": "markdown",
   "metadata": {},
   "source": [
    "Load data"
   ]
  },
  {
   "cell_type": "code",
   "execution_count": 179,
   "metadata": {},
   "outputs": [],
   "source": [
    "DATA_PATH = r'data/'\n",
    "MODEL_PATH = r'models/'"
   ]
  },
  {
   "cell_type": "code",
   "execution_count": 198,
   "metadata": {},
   "outputs": [
    {
     "data": {
      "text/plain": [
       "Index(['Alveolar_Type1', 'Alveolar_Type2', 'B_cell_mature', 'B_cell_naive',\n",
       "       'Basal', 'Blood_vessel', 'Ciliated', 'DC_1', 'DC_2',\n",
       "       'DC_Monocyte_Dividing', 'DC_activated', 'DC_plasmacytoid', 'Fibroblast',\n",
       "       'Lymph_vessel', 'Macrophage_Dividing', 'Macrophage_MARCOneg',\n",
       "       'Macrophage_MARCOpos', 'Mast_cells', 'Monocyte', 'Muscle_cells', 'NK',\n",
       "       'NK_Dividing', 'Plasma_cells', 'Secretory_club', 'T_CD4', 'T_CD8_CytT',\n",
       "       'T_cells_Dividing', 'T_regulatory'],\n",
       "      dtype='object')"
      ]
     },
     "execution_count": 198,
     "metadata": {},
     "output_type": "execute_result"
    }
   ],
   "source": [
    "count_file = 'lung.cellxgene.h5ad'\n",
    "adata = anndata.read_h5ad(DATA_PATH + count_file)\n",
    "adata.obs['Celltypes_updated_July_2020'].cat.categories"
   ]
  },
  {
   "cell_type": "code",
   "execution_count": null,
   "metadata": {},
   "outputs": [],
   "source": []
  },
  {
   "cell_type": "code",
   "execution_count": 181,
   "metadata": {},
   "outputs": [
    {
     "data": {
      "text/plain": [
       "NK                      10418\n",
       "T_CD4                    7211\n",
       "Monocyte                 6067\n",
       "T_CD8_CytT               5755\n",
       "Alveolar_Type2           4826\n",
       "Fibroblast               4624\n",
       "Macrophage_MARCOpos      4512\n",
       "Mast_cells               2911\n",
       "Blood_vessel             2694\n",
       "DC_2                     1605\n",
       "Macrophage_MARCOneg       937\n",
       "B_cell_naive              900\n",
       "Muscle_cells              839\n",
       "B_cell_mature             651\n",
       "T_regulatory              481\n",
       "Ciliated                  466\n",
       "Alveolar_Type1            346\n",
       "Lymph_vessel              337\n",
       "Plasma_cells              287\n",
       "DC_Monocyte_Dividing      242\n",
       "Secretory_club            179\n",
       "DC_1                      163\n",
       "NK_Dividing               130\n",
       "DC_activated              122\n",
       "Macrophage_Dividing        94\n",
       "Basal                      89\n",
       "T_cells_Dividing           88\n",
       "DC_plasmacytoid            46\n",
       "Name: Celltypes_updated_July_2020, dtype: int64"
      ]
     },
     "execution_count": 181,
     "metadata": {},
     "output_type": "execute_result"
    }
   ],
   "source": [
    "adata.obs['Celltypes_updated_July_2020'].value_counts()"
   ]
  },
  {
   "cell_type": "code",
   "execution_count": 182,
   "metadata": {},
   "outputs": [],
   "source": [
    "def find_max_celltype(gene,adata,partition_key=\"CellType\"):\n",
    "    get_average_celltype_counts(adata , partition_key = partition_key)\n",
    "    gene_index = int(np.where(adata.var.index == gene)[0])\n",
    "    max_celltype_index = np.argmax(adata.varm['ave_celltype_counts_' + partition_key][gene_index,:])\n",
    "    max_celltype = list(adata.obs[partition_key].cat.categories)[max_celltype_index]\n",
    "    return(max_celltype)\n",
    "\n",
    "def full_spe_matrix(adata, partition_key: str = 'CellType') :\n",
    "    shannon = get_spe(adata, spe_metric='shannon', partition_key=partition_key)\n",
    "    tau = get_spe(adata, spe_metric='tau', partition_key=partition_key)\n",
    "    gini = get_spe(adata, spe_metric='gini', partition_key=partition_key)\n",
    "    one_v_max = one_v_max_matrix(adata,partition_key=partition_key)\n",
    "    spe_matrix = pd.DataFrame(columns=['gene',\n",
    "                                       'most expressed celltype',\n",
    "                                       'one_v_max',\n",
    "                                       'shannon',\n",
    "                                       'tau',\n",
    "                                       'gini'])\n",
    "    for gene in adata.var.index :\n",
    "        spe_matrix.loc[gene,:] = [gene,\n",
    "                                  find_max_celltype(gene,adata,partition_key=partition_key),\n",
    "                                  max(one_v_max[gene]), \n",
    "                                  shannon[gene],\n",
    "                                  tau[gene],\n",
    "                                  gini[gene]]\n",
    "    return spe_matrix"
   ]
  },
  {
   "cell_type": "code",
   "execution_count": 183,
   "metadata": {
    "scrolled": true
   },
   "outputs": [
    {
     "name": "stderr",
     "output_type": "stream",
     "text": [
      "C:\\Users\\ipmc\\.conda\\envs\\scanpypip\\lib\\site-packages\\anndata\\_core\\anndata.py:1094: FutureWarning: is_categorical is deprecated and will be removed in a future version.  Use is_categorical_dtype instead\n",
      "  if not is_categorical(df_full[k]):\n",
      "C:\\Users\\ipmc\\.conda\\envs\\scanpypip\\lib\\site-packages\\scanpy\\metrics\\specificity\\compute.py:222: RuntimeWarning: invalid value encountered in double_scalars\n",
      "  ((np.sum((2 * index - n - 1) * gini_list)) / (n * np.sum(gini_list)))\n"
     ]
    }
   ],
   "source": [
    "spe_Meyer_full = full_spe_matrix(adata=adata, partition_key='Celltypes_updated_July_2020')"
   ]
  },
  {
   "cell_type": "code",
   "execution_count": 184,
   "metadata": {},
   "outputs": [],
   "source": [
    "spe_Meyer_full = spe_Meyer_full.replace([np.inf, -np.inf], np.nan).dropna()"
   ]
  },
  {
   "cell_type": "code",
   "execution_count": 185,
   "metadata": {},
   "outputs": [],
   "source": [
    "spe_Meyer = spe_Meyer_full.iloc[:,2:]"
   ]
  },
  {
   "cell_type": "code",
   "execution_count": 186,
   "metadata": {},
   "outputs": [],
   "source": [
    "spe_Meyer.to_csv(r'data/Meyer_spec.csv')"
   ]
  },
  {
   "cell_type": "code",
   "execution_count": 187,
   "metadata": {},
   "outputs": [],
   "source": [
    "clf_Deprez_366obs = load(MODEL_PATH + 'clf_train_Deprez_366obs.joblib')"
   ]
  },
  {
   "cell_type": "code",
   "execution_count": 188,
   "metadata": {},
   "outputs": [],
   "source": [
    "spe_type_Meyer_pred = clf_Deprez_366obs.predict(spe_Meyer)\n",
    "spec_dict={'0':'equirep','1':'low','2':'multi-spec','3':'high','4':'unique'}\n",
    "spe_Meyer['spe_type'] = pd.Series(spe_type_Meyer_pred, index = spe_Meyer.index).apply(str).replace(spec_dict)"
   ]
  },
  {
   "cell_type": "code",
   "execution_count": 189,
   "metadata": {},
   "outputs": [
    {
     "data": {
      "text/html": [
       "<div>\n",
       "<style scoped>\n",
       "    .dataframe tbody tr th:only-of-type {\n",
       "        vertical-align: middle;\n",
       "    }\n",
       "\n",
       "    .dataframe tbody tr th {\n",
       "        vertical-align: top;\n",
       "    }\n",
       "\n",
       "    .dataframe thead th {\n",
       "        text-align: right;\n",
       "    }\n",
       "</style>\n",
       "<table border=\"1\" class=\"dataframe\">\n",
       "  <thead>\n",
       "    <tr style=\"text-align: right;\">\n",
       "      <th></th>\n",
       "      <th>one_v_max</th>\n",
       "      <th>shannon</th>\n",
       "      <th>tau</th>\n",
       "      <th>gini</th>\n",
       "      <th>spe_type</th>\n",
       "    </tr>\n",
       "  </thead>\n",
       "  <tbody>\n",
       "    <tr>\n",
       "      <th>RP11-34P13.7</th>\n",
       "      <td>3.120907</td>\n",
       "      <td>0.426032</td>\n",
       "      <td>0.956376</td>\n",
       "      <td>0.753801</td>\n",
       "      <td>high</td>\n",
       "    </tr>\n",
       "    <tr>\n",
       "      <th>RP11-34P13.8</th>\n",
       "      <td>6.465109</td>\n",
       "      <td>0.124540</td>\n",
       "      <td>0.991510</td>\n",
       "      <td>0.946633</td>\n",
       "      <td>unique</td>\n",
       "    </tr>\n",
       "    <tr>\n",
       "      <th>FO538757.3</th>\n",
       "      <td>1.051696</td>\n",
       "      <td>0.168197</td>\n",
       "      <td>0.962499</td>\n",
       "      <td>0.926160</td>\n",
       "      <td>multi-spec</td>\n",
       "    </tr>\n",
       "    <tr>\n",
       "      <th>FO538757.2</th>\n",
       "      <td>1.064265</td>\n",
       "      <td>0.681523</td>\n",
       "      <td>0.403931</td>\n",
       "      <td>0.184754</td>\n",
       "      <td>equirep</td>\n",
       "    </tr>\n",
       "    <tr>\n",
       "      <th>AP006222.2</th>\n",
       "      <td>1.590516</td>\n",
       "      <td>0.655178</td>\n",
       "      <td>0.718644</td>\n",
       "      <td>0.334584</td>\n",
       "      <td>low</td>\n",
       "    </tr>\n",
       "    <tr>\n",
       "      <th>...</th>\n",
       "      <td>...</td>\n",
       "      <td>...</td>\n",
       "      <td>...</td>\n",
       "      <td>...</td>\n",
       "      <td>...</td>\n",
       "    </tr>\n",
       "    <tr>\n",
       "      <th>AL354822.1</th>\n",
       "      <td>1.177372</td>\n",
       "      <td>0.600569</td>\n",
       "      <td>0.726390</td>\n",
       "      <td>0.493432</td>\n",
       "      <td>equirep</td>\n",
       "    </tr>\n",
       "    <tr>\n",
       "      <th>AC004556.1</th>\n",
       "      <td>1.195818</td>\n",
       "      <td>0.611275</td>\n",
       "      <td>0.732075</td>\n",
       "      <td>0.444289</td>\n",
       "      <td>equirep</td>\n",
       "    </tr>\n",
       "    <tr>\n",
       "      <th>AC233755.2</th>\n",
       "      <td>3.009538</td>\n",
       "      <td>0.151347</td>\n",
       "      <td>0.985766</td>\n",
       "      <td>0.940870</td>\n",
       "      <td>high</td>\n",
       "    </tr>\n",
       "    <tr>\n",
       "      <th>AC233755.1</th>\n",
       "      <td>31.902023</td>\n",
       "      <td>0.058257</td>\n",
       "      <td>0.997629</td>\n",
       "      <td>0.957543</td>\n",
       "      <td>unique</td>\n",
       "    </tr>\n",
       "    <tr>\n",
       "      <th>AC240274.1</th>\n",
       "      <td>1.111767</td>\n",
       "      <td>0.621132</td>\n",
       "      <td>0.665616</td>\n",
       "      <td>0.437856</td>\n",
       "      <td>equirep</td>\n",
       "    </tr>\n",
       "  </tbody>\n",
       "</table>\n",
       "<p>24874 rows × 5 columns</p>\n",
       "</div>"
      ],
      "text/plain": [
       "              one_v_max   shannon       tau      gini    spe_type\n",
       "RP11-34P13.7   3.120907  0.426032  0.956376  0.753801        high\n",
       "RP11-34P13.8   6.465109  0.124540  0.991510  0.946633      unique\n",
       "FO538757.3     1.051696  0.168197  0.962499  0.926160  multi-spec\n",
       "FO538757.2     1.064265  0.681523  0.403931  0.184754     equirep\n",
       "AP006222.2     1.590516  0.655178  0.718644  0.334584         low\n",
       "...                 ...       ...       ...       ...         ...\n",
       "AL354822.1     1.177372  0.600569  0.726390  0.493432     equirep\n",
       "AC004556.1     1.195818  0.611275  0.732075  0.444289     equirep\n",
       "AC233755.2     3.009538  0.151347  0.985766  0.940870        high\n",
       "AC233755.1    31.902023  0.058257  0.997629  0.957543      unique\n",
       "AC240274.1     1.111767  0.621132  0.665616  0.437856     equirep\n",
       "\n",
       "[24874 rows x 5 columns]"
      ]
     },
     "execution_count": 189,
     "metadata": {},
     "output_type": "execute_result"
    }
   ],
   "source": [
    "spe_Meyer"
   ]
  },
  {
   "cell_type": "code",
   "execution_count": 191,
   "metadata": {},
   "outputs": [
    {
     "data": {
      "text/plain": [
       "AnnData object with n_obs × n_vars = 57020 × 25204\n",
       "    obs: 'Donor', 'Time', 'donor_time', 'organ', 'patient', 'sample', 'n_genes', 'percent_mito', 'n_counts', 'leiden', 'Celltypes_GenomeBiol_2019', 'Celltypes_updated_July_2020'\n",
       "    var: 'gene_ids-HCATisStab7509734', 'gene_ids-HCATisStab7509735', 'gene_ids-HCATisStab7509736', 'gene_ids-HCATisStab7587202', 'gene_ids-HCATisStab7587205', 'gene_ids-HCATisStab7587208', 'gene_ids-HCATisStab7587211', 'gene_ids-HCATisStab7646032', 'gene_ids-HCATisStab7646033', 'gene_ids-HCATisStab7646034', 'gene_ids-HCATisStab7646035', 'gene_ids-HCATisStab7659968', 'gene_ids-HCATisStab7659969', 'gene_ids-HCATisStab7659970', 'gene_ids-HCATisStab7659971', 'gene_ids-HCATisStab7747197', 'gene_ids-HCATisStab7747198', 'gene_ids-HCATisStab7747199', 'gene_ids-HCATisStab7747200', 'n_cells', 'shannon_Celltypes_updated_July_2020', 'tau_Celltypes_updated_July_2020', 'gini_Celltypes_updated_July_2020'\n",
       "    uns: 'Celltypes_GenomeBiol_2019_colors', 'Celltypes_colors', 'Celltypes_updated_July_2020_colors', 'ave_celltype_index_Celltypes_updated_July_2020', 'ovm_Celltypes_updated_July_2020'\n",
       "    obsm: 'X_pca', 'X_umap'\n",
       "    varm: 'ave_celltype_counts_Celltypes_updated_July_2020'"
      ]
     },
     "execution_count": 191,
     "metadata": {},
     "output_type": "execute_result"
    }
   ],
   "source": [
    "adata"
   ]
  },
  {
   "cell_type": "markdown",
   "metadata": {},
   "source": [
    "Choose your Markers"
   ]
  },
  {
   "cell_type": "code",
   "execution_count": 150,
   "metadata": {},
   "outputs": [],
   "source": [
    "marker_file = 'Marker_cells_Deprez_CT_Meyer.csv'\n",
    "markers = pd.read_csv(DATA_PATH + marker_file, sep=';')\n",
    "celltypes = markers.columns"
   ]
  },
  {
   "cell_type": "code",
   "execution_count": 151,
   "metadata": {},
   "outputs": [],
   "source": [
    "marker_file = 'Markers_Meyer_CT_Deprez.csv'\n",
    "markers = pd.read_csv(DATA_PATH + marker_file, sep=';')\n",
    "celltypes = markers.columns"
   ]
  },
  {
   "cell_type": "code",
   "execution_count": 152,
   "metadata": {},
   "outputs": [],
   "source": [
    "ROOTDIR = r''\n",
    "\n",
    "def load_obj(name ):\n",
    "    with open(name + '.pkl', 'rb') as f:\n",
    "        return pickle.load(f)\n",
    "    \n",
    "markers = load_obj(DATA_PATH + r'Markers_Meyer')\n",
    "markers = pd.DataFrame.from_dict(markers, orient='index').T\n",
    "celltypes = markers.columns"
   ]
  },
  {
   "cell_type": "code",
   "execution_count": 153,
   "metadata": {},
   "outputs": [],
   "source": [
    "marker_file = 'Markers_Meyer_df_CT_July2020.csv'\n",
    "markers = pd.read_csv(DATA_PATH + marker_file, sep=';')\n",
    "celltypes = markers.columns"
   ]
  },
  {
   "cell_type": "markdown",
   "metadata": {},
   "source": [
    "Visualization - celltype"
   ]
  },
  {
   "cell_type": "code",
   "execution_count": 154,
   "metadata": {},
   "outputs": [],
   "source": [
    "dropdown_celltype = widgets.Dropdown(\n",
    "    options=celltypes,\n",
    "    value='Basal',\n",
    "    description='Celltypes_updated_July_2020:',\n",
    "    disabled=False,\n",
    ")"
   ]
  },
  {
   "cell_type": "code",
   "execution_count": 155,
   "metadata": {},
   "outputs": [],
   "source": [
    "output_marker = widgets.Output()"
   ]
  },
  {
   "cell_type": "code",
   "execution_count": 156,
   "metadata": {},
   "outputs": [],
   "source": [
    "def show_spec_distrib(change):\n",
    "    if change.new not in adata.obs['Celltypes_updated_July_2020'].cat.categories :\n",
    "        print(f'{change.new} not found in this dataset identified celltypes')\n",
    "    else :\n",
    "        output_marker.clear_output()\n",
    "        with output_marker :\n",
    "            spec_markers=markers[change.new].dropna()\n",
    "            found_markers=spec_markers[spec_markers.isin(adata.var_names)]\n",
    "            not_found=spec_markers[~spec_markers.isin(adata.var_names)]\n",
    "            if not not_found.empty:\n",
    "                print('Gene(s) not found : ' + ','.join(not_found))\n",
    "            print(spe_Meyer.loc[found_markers,'spe_type'])\n",
    "            marker_genes_distribution(adata=adata,\n",
    "                                      gene_list=spec_markers,\n",
    "                                      celltype=change.new,\n",
    "                                      partition_key='Celltypes_updated_July_2020')\n",
    "            one_v_max_genelist(adata=adata,\n",
    "                               gene_list=spec_markers,\n",
    "                               partition_key='Celltypes_updated_July_2020')\n",
    "            sc.pl.umap(adata=adata, color=found_markers, color_map = 'jet')"
   ]
  },
  {
   "cell_type": "code",
   "execution_count": 157,
   "metadata": {},
   "outputs": [
    {
     "data": {
      "application/vnd.jupyter.widget-view+json": {
       "model_id": "ab71e65528cd489c9f699f21332368e5",
       "version_major": 2,
       "version_minor": 0
      },
      "text/plain": [
       "Dropdown(description='Celltypes_updated_July_2020:', index=9, options=('Macrophage_MARCOpos', 'NK', 'Macrophag…"
      ]
     },
     "metadata": {},
     "output_type": "display_data"
    }
   ],
   "source": [
    "dropdown_celltype.observe(show_spec_distrib,names='value')\n",
    "display(dropdown_celltype)"
   ]
  },
  {
   "cell_type": "code",
   "execution_count": 158,
   "metadata": {
    "scrolled": true
   },
   "outputs": [
    {
     "data": {
      "application/vnd.jupyter.widget-view+json": {
       "model_id": "40d5b5206b0a4d2e99d52a1fe06df01a",
       "version_major": 2,
       "version_minor": 0
      },
      "text/plain": [
       "Output()"
      ]
     },
     "metadata": {},
     "output_type": "display_data"
    }
   ],
   "source": [
    "display(output_marker)"
   ]
  },
  {
   "cell_type": "markdown",
   "metadata": {},
   "source": [
    "Vizualisation - genes"
   ]
  },
  {
   "cell_type": "code",
   "execution_count": 192,
   "metadata": {},
   "outputs": [],
   "source": [
    "combobox_genes = widgets.Combobox(\n",
    "    options=list(adata.var.index),\n",
    "    placeholder='Type a gene',\n",
    "    description='Gene:',\n",
    "    ensure_option=True,\n",
    "    disabled=False,\n",
    ")"
   ]
  },
  {
   "cell_type": "code",
   "execution_count": 193,
   "metadata": {},
   "outputs": [],
   "source": [
    "output_gene=widgets.Output()"
   ]
  },
  {
   "cell_type": "code",
   "execution_count": 194,
   "metadata": {},
   "outputs": [],
   "source": [
    "def show_spec_gene(change):\n",
    "    output_gene.clear_output()\n",
    "    with output_gene :\n",
    "        max_celltype = find_max_celltype(gene=change.new,adata=adata,partition_key=\"Celltypes_updated_July_2020\")\n",
    "        print('Specificity type : ' + str(spe_Meyer.loc[change.new,'spe_type']) )\n",
    "        marker_genes_distribution(adata=adata,\n",
    "                                  gene_list=[change.new],\n",
    "                                  celltype=max_celltype,\n",
    "                                  partition_key='Celltypes_updated_July_2020')\n",
    "        one_v_max_genelist(adata=adata,\n",
    "                           gene_list=[change.new],\n",
    "                           partition_key='Celltypes_updated_July_2020')\n",
    "        sc.pl.umap(adata=adata, color=change.new, color_map = 'jet')"
   ]
  },
  {
   "cell_type": "code",
   "execution_count": 195,
   "metadata": {},
   "outputs": [
    {
     "data": {
      "application/vnd.jupyter.widget-view+json": {
       "model_id": "007726a6f9ec45ab93762f0b3ba79301",
       "version_major": 2,
       "version_minor": 0
      },
      "text/plain": [
       "Combobox(value='', description='Gene:', ensure_option=True, options=('RP11-34P13.7', 'RP11-34P13.8', 'FO538757…"
      ]
     },
     "metadata": {},
     "output_type": "display_data"
    }
   ],
   "source": [
    "combobox_genes.observe(show_spec_gene,names='value')\n",
    "display(combobox_genes)"
   ]
  },
  {
   "cell_type": "code",
   "execution_count": 196,
   "metadata": {},
   "outputs": [
    {
     "data": {
      "application/vnd.jupyter.widget-view+json": {
       "model_id": "a6c60f71717f4c1c97abff49ee6710bd",
       "version_major": 2,
       "version_minor": 0
      },
      "text/plain": [
       "Output()"
      ]
     },
     "metadata": {},
     "output_type": "display_data"
    }
   ],
   "source": [
    "display(output_gene)"
   ]
  },
  {
   "cell_type": "code",
   "execution_count": null,
   "metadata": {},
   "outputs": [],
   "source": [
    "barbry = pd.melt(markers).dropna()\n",
    "barbry = barbry.rename(columns={'variable':'CellType','value':'gene'})"
   ]
  },
  {
   "cell_type": "code",
   "execution_count": null,
   "metadata": {},
   "outputs": [],
   "source": [
    "barbry['Proposed by'] = 'Barbry'"
   ]
  },
  {
   "cell_type": "code",
   "execution_count": null,
   "metadata": {},
   "outputs": [],
   "source": [
    "barbry.index = barbry['gene']"
   ]
  },
  {
   "cell_type": "code",
   "execution_count": null,
   "metadata": {},
   "outputs": [],
   "source": [
    "barbry = barbry.join(spe_Meyer)\n",
    "barbry = barbry.dropna()"
   ]
  },
  {
   "cell_type": "code",
   "execution_count": null,
   "metadata": {},
   "outputs": [],
   "source": [
    "barbry = barbry.dropna()"
   ]
  },
  {
   "cell_type": "code",
   "execution_count": null,
   "metadata": {},
   "outputs": [],
   "source": [
    "barbry = barbry.rename(columns = {'one_v_max' : 'one_v_max_Meyer', 'shannon' : 'shannon_Meyer', 'tau' : 'tau_Meyer', 'gini' : 'gini_Meyer', 'spe_type':'spe_type_Meyer'} )"
   ]
  },
  {
   "cell_type": "code",
   "execution_count": null,
   "metadata": {},
   "outputs": [],
   "source": [
    "barbry.to_csv('Barb_in_Meyer.csv')"
   ]
  },
  {
   "cell_type": "code",
   "execution_count": null,
   "metadata": {},
   "outputs": [],
   "source": []
  },
  {
   "cell_type": "code",
   "execution_count": null,
   "metadata": {},
   "outputs": [],
   "source": [
    "meyer = pd.melt(markers).dropna()\n",
    "meyer = meyer.rename(columns={'variable':'CellType','value':'gene'})"
   ]
  },
  {
   "cell_type": "code",
   "execution_count": null,
   "metadata": {},
   "outputs": [],
   "source": [
    "meyer['Proposed by'] = 'Meyer'"
   ]
  },
  {
   "cell_type": "code",
   "execution_count": null,
   "metadata": {},
   "outputs": [],
   "source": [
    "meyer.index = meyer['gene']"
   ]
  },
  {
   "cell_type": "code",
   "execution_count": null,
   "metadata": {},
   "outputs": [],
   "source": [
    "meyer = meyer.join(spe_Meyer)\n",
    "meyer = meyer.dropna()"
   ]
  },
  {
   "cell_type": "code",
   "execution_count": null,
   "metadata": {},
   "outputs": [],
   "source": [
    "meyer = meyer.dropna()"
   ]
  },
  {
   "cell_type": "code",
   "execution_count": null,
   "metadata": {},
   "outputs": [],
   "source": [
    "meyer = meyer.rename(columns = {'one_v_max' : 'one_v_max_Meyer', 'shannon' : 'shannon_Meyer', 'tau' : 'tau_Meyer', 'gini' : 'gini_Meyer', 'spe_type':'spe_type_Meyer'} )"
   ]
  },
  {
   "cell_type": "code",
   "execution_count": null,
   "metadata": {},
   "outputs": [],
   "source": [
    "meyer.to_csv('Meyer_in_Meyer.csv')"
   ]
  },
  {
   "cell_type": "code",
   "execution_count": null,
   "metadata": {},
   "outputs": [],
   "source": [
    "all_Meyer = pd.concat([meyer,barbry])"
   ]
  },
  {
   "cell_type": "code",
   "execution_count": null,
   "metadata": {},
   "outputs": [],
   "source": [
    "all_Meyer.to_csv('All_in_Meyer.csv')"
   ]
  },
  {
   "cell_type": "code",
   "execution_count": null,
   "metadata": {},
   "outputs": [],
   "source": [
    "barbry"
   ]
  },
  {
   "cell_type": "code",
   "execution_count": null,
   "metadata": {},
   "outputs": [],
   "source": [
    "pred_all_Barbry = pd.read_csv(r'data/genes_spec_pred_V1',sep=',',index_col='gene')\n",
    "pred_all_Barbry.columns += '_Barbry'\n",
    "\n",
    "pred_all_Meyer = spe_Meyer.copy()\n",
    "pred_all_Meyer.index.name = 'gene'\n",
    "pred_all_Meyer.columns += '_Meyer'"
   ]
  },
  {
   "cell_type": "code",
   "execution_count": null,
   "metadata": {},
   "outputs": [],
   "source": [
    "pred_all_Barbry_Meyer = pred_all_Barbry.join(pred_all_Meyer, how = 'inner')"
   ]
  },
  {
   "cell_type": "code",
   "execution_count": 126,
   "metadata": {},
   "outputs": [],
   "source": [
    "pred_all_Barbry_Meyer.to_csv('spec_all_genes_Barbry_Meyer.csv')"
   ]
  },
  {
   "cell_type": "code",
   "execution_count": null,
   "metadata": {},
   "outputs": [],
   "source": [
    "pred_all_Barbry_Meyer = pd.read_csv('spec_all_genes_Barbry_Meyer.csv', index_col = 'gene')"
   ]
  },
  {
   "cell_type": "code",
   "execution_count": null,
   "metadata": {},
   "outputs": [],
   "source": [
    "pred_all_Barbry_Meyer.columns"
   ]
  },
  {
   "cell_type": "code",
   "execution_count": 124,
   "metadata": {},
   "outputs": [],
   "source": [
    "pred_all_Barbry_Meyer=pred_all_Barbry_Meyer[['spe_type_Barbry','most expressed celltype_Barbry','spe_type_Meyer','most expressed celltype_Meyer','one_v_max_Barbry', 'shannon_Barbry', 'tau_Barbry', 'gini_Barbry', 'one_v_max_Meyer', 'shannon_Meyer', 'tau_Meyer','gini_Meyer']]"
   ]
  },
  {
   "cell_type": "code",
   "execution_count": null,
   "metadata": {},
   "outputs": [],
   "source": [
    "pred_all_Barbry_Meyer"
   ]
  },
  {
   "cell_type": "code",
   "execution_count": null,
   "metadata": {},
   "outputs": [],
   "source": [
    "meyer_spe=full_spe_matrix(adata,partition_key='Celltypes_updated_July_2020')"
   ]
  },
  {
   "cell_type": "code",
   "execution_count": null,
   "metadata": {},
   "outputs": [],
   "source": [
    "count_file = 'HCA_Barbry_Grch38_Raw_filter_Norm.h5ad'\n",
    "barbry = anndata.read_h5ad(DATA_PATH + count_file)"
   ]
  },
  {
   "cell_type": "code",
   "execution_count": null,
   "metadata": {},
   "outputs": [],
   "source": [
    "barbry_spe = full_spe_matrix(barbry,partition_key='CellType')"
   ]
  },
  {
   "cell_type": "code",
   "execution_count": 115,
   "metadata": {},
   "outputs": [],
   "source": [
    "barbry_spe.columns += '_Barbry'\n",
    "\n",
    "meyer_spe.index.name = 'gene'\n",
    "meyer_spe.columns += '_Meyer'\n",
    "pred_all_Barbry_Meyer = meyer_spe.join(barbry_spe, how = 'inner')"
   ]
  },
  {
   "cell_type": "code",
   "execution_count": 112,
   "metadata": {},
   "outputs": [],
   "source": [
    "meyer_spe = meyer_spe.replace([np.inf, -np.inf], np.nan).dropna()\n",
    "barbry_spe = barbry_spe.replace([np.inf, -np.inf], np.nan).dropna()\n",
    "\n",
    "spe_type_meyer_pred = clf_Deprez_366obs.predict(meyer_spe[['one_v_max','shannon','tau','gini']])\n",
    "spe_type_barbry_pred = clf_Deprez_366obs.predict(barbry_spe[['one_v_max','shannon','tau','gini']])\n",
    "\n",
    "spec_dict={'0':'equirep','1':'low','2':'multi-spec','3':'high','4':'unique'}\n",
    "meyer_spe['spe_type'] = pd.Series(spe_type_meyer_pred, index = meyer_spe.index).apply(str).replace(spec_dict)\n",
    "barbry_spe['spe_type'] = pd.Series(spe_type_barbry_pred, index = barbry_spe.index).apply(str).replace(spec_dict)"
   ]
  },
  {
   "cell_type": "code",
   "execution_count": 100,
   "metadata": {},
   "outputs": [
    {
     "data": {
      "text/html": [
       "<div>\n",
       "<style scoped>\n",
       "    .dataframe tbody tr th:only-of-type {\n",
       "        vertical-align: middle;\n",
       "    }\n",
       "\n",
       "    .dataframe tbody tr th {\n",
       "        vertical-align: top;\n",
       "    }\n",
       "\n",
       "    .dataframe thead th {\n",
       "        text-align: right;\n",
       "    }\n",
       "</style>\n",
       "<table border=\"1\" class=\"dataframe\">\n",
       "  <thead>\n",
       "    <tr style=\"text-align: right;\">\n",
       "      <th></th>\n",
       "      <th>most expressed celltype_Meyer</th>\n",
       "      <th>one_v_max_Meyer</th>\n",
       "      <th>shannon_Meyer</th>\n",
       "      <th>tau_Meyer</th>\n",
       "      <th>gini_Meyer</th>\n",
       "      <th>spe_type_Meyer</th>\n",
       "      <th>one_v_max_Barbry</th>\n",
       "      <th>shannon_Barbry</th>\n",
       "      <th>tau_Barbry</th>\n",
       "      <th>gini_Barbry</th>\n",
       "      <th>spe_type_Barbry</th>\n",
       "    </tr>\n",
       "    <tr>\n",
       "      <th>gene</th>\n",
       "      <th></th>\n",
       "      <th></th>\n",
       "      <th></th>\n",
       "      <th></th>\n",
       "      <th></th>\n",
       "      <th></th>\n",
       "      <th></th>\n",
       "      <th></th>\n",
       "      <th></th>\n",
       "      <th></th>\n",
       "      <th></th>\n",
       "    </tr>\n",
       "  </thead>\n",
       "  <tbody>\n",
       "    <tr>\n",
       "      <th>LINC00115</th>\n",
       "      <td>Secretory_club</td>\n",
       "      <td>1.339706</td>\n",
       "      <td>0.657481</td>\n",
       "      <td>0.612519</td>\n",
       "      <td>0.323852</td>\n",
       "      <td>equirep</td>\n",
       "      <td>1.226817</td>\n",
       "      <td>0.628045</td>\n",
       "      <td>0.626468</td>\n",
       "      <td>0.399453</td>\n",
       "      <td>equirep</td>\n",
       "    </tr>\n",
       "    <tr>\n",
       "      <th>FAM41C</th>\n",
       "      <td>B_cell_naive</td>\n",
       "      <td>1.198358</td>\n",
       "      <td>0.648717</td>\n",
       "      <td>0.634104</td>\n",
       "      <td>0.349967</td>\n",
       "      <td>equirep</td>\n",
       "      <td>1.125282</td>\n",
       "      <td>0.637185</td>\n",
       "      <td>0.663437</td>\n",
       "      <td>0.393725</td>\n",
       "      <td>equirep</td>\n",
       "    </tr>\n",
       "    <tr>\n",
       "      <th>NOC2L</th>\n",
       "      <td>Basal</td>\n",
       "      <td>1.174187</td>\n",
       "      <td>0.680950</td>\n",
       "      <td>0.478723</td>\n",
       "      <td>0.190852</td>\n",
       "      <td>equirep</td>\n",
       "      <td>1.463043</td>\n",
       "      <td>0.673486</td>\n",
       "      <td>0.569871</td>\n",
       "      <td>0.219136</td>\n",
       "      <td>equirep</td>\n",
       "    </tr>\n",
       "    <tr>\n",
       "      <th>PLEKHN1</th>\n",
       "      <td>T_regulatory</td>\n",
       "      <td>1.884708</td>\n",
       "      <td>0.557493</td>\n",
       "      <td>0.872122</td>\n",
       "      <td>0.596108</td>\n",
       "      <td>low</td>\n",
       "      <td>1.832154</td>\n",
       "      <td>0.519458</td>\n",
       "      <td>0.867355</td>\n",
       "      <td>0.665310</td>\n",
       "      <td>multi-spec</td>\n",
       "    </tr>\n",
       "    <tr>\n",
       "      <th>PERM1</th>\n",
       "      <td>Secretory_club</td>\n",
       "      <td>21.341028</td>\n",
       "      <td>0.168331</td>\n",
       "      <td>0.992186</td>\n",
       "      <td>0.921158</td>\n",
       "      <td>unique</td>\n",
       "      <td>1.040512</td>\n",
       "      <td>0.442806</td>\n",
       "      <td>0.854686</td>\n",
       "      <td>0.765738</td>\n",
       "      <td>multi-spec</td>\n",
       "    </tr>\n",
       "    <tr>\n",
       "      <th>...</th>\n",
       "      <td>...</td>\n",
       "      <td>...</td>\n",
       "      <td>...</td>\n",
       "      <td>...</td>\n",
       "      <td>...</td>\n",
       "      <td>...</td>\n",
       "      <td>...</td>\n",
       "      <td>...</td>\n",
       "      <td>...</td>\n",
       "      <td>...</td>\n",
       "      <td>...</td>\n",
       "    </tr>\n",
       "    <tr>\n",
       "      <th>AC007325.4</th>\n",
       "      <td>Ciliated</td>\n",
       "      <td>3.987447</td>\n",
       "      <td>0.529776</td>\n",
       "      <td>0.933019</td>\n",
       "      <td>0.605659</td>\n",
       "      <td>high</td>\n",
       "      <td>3.163253</td>\n",
       "      <td>0.538201</td>\n",
       "      <td>0.907686</td>\n",
       "      <td>0.615957</td>\n",
       "      <td>high</td>\n",
       "    </tr>\n",
       "    <tr>\n",
       "      <th>AC007325.2</th>\n",
       "      <td>Basal</td>\n",
       "      <td>2.505832</td>\n",
       "      <td>0.353413</td>\n",
       "      <td>0.948815</td>\n",
       "      <td>0.848981</td>\n",
       "      <td>high</td>\n",
       "      <td>1.077784</td>\n",
       "      <td>0.414222</td>\n",
       "      <td>0.886558</td>\n",
       "      <td>0.792062</td>\n",
       "      <td>multi-spec</td>\n",
       "    </tr>\n",
       "    <tr>\n",
       "      <th>AL354822.1</th>\n",
       "      <td>Ciliated</td>\n",
       "      <td>1.177372</td>\n",
       "      <td>0.600569</td>\n",
       "      <td>0.726390</td>\n",
       "      <td>0.493432</td>\n",
       "      <td>equirep</td>\n",
       "      <td>1.268024</td>\n",
       "      <td>0.604515</td>\n",
       "      <td>0.729433</td>\n",
       "      <td>0.467284</td>\n",
       "      <td>equirep</td>\n",
       "    </tr>\n",
       "    <tr>\n",
       "      <th>AC004556.1</th>\n",
       "      <td>Alveolar_Type1</td>\n",
       "      <td>1.195818</td>\n",
       "      <td>0.611275</td>\n",
       "      <td>0.732075</td>\n",
       "      <td>0.444289</td>\n",
       "      <td>equirep</td>\n",
       "      <td>1.420643</td>\n",
       "      <td>0.578837</td>\n",
       "      <td>0.840537</td>\n",
       "      <td>0.550767</td>\n",
       "      <td>multi-spec</td>\n",
       "    </tr>\n",
       "    <tr>\n",
       "      <th>AC240274.1</th>\n",
       "      <td>Macrophage_MARCOneg</td>\n",
       "      <td>1.111767</td>\n",
       "      <td>0.621132</td>\n",
       "      <td>0.665616</td>\n",
       "      <td>0.437856</td>\n",
       "      <td>equirep</td>\n",
       "      <td>1.932472</td>\n",
       "      <td>0.608708</td>\n",
       "      <td>0.832561</td>\n",
       "      <td>0.461009</td>\n",
       "      <td>low</td>\n",
       "    </tr>\n",
       "  </tbody>\n",
       "</table>\n",
       "<p>13066 rows × 11 columns</p>\n",
       "</div>"
      ],
      "text/plain": [
       "           most expressed celltype_Meyer  one_v_max_Meyer  shannon_Meyer  \\\n",
       "gene                                                                       \n",
       "LINC00115                 Secretory_club         1.339706       0.657481   \n",
       "FAM41C                      B_cell_naive         1.198358       0.648717   \n",
       "NOC2L                              Basal         1.174187       0.680950   \n",
       "PLEKHN1                     T_regulatory         1.884708       0.557493   \n",
       "PERM1                     Secretory_club        21.341028       0.168331   \n",
       "...                                  ...              ...            ...   \n",
       "AC007325.4                      Ciliated         3.987447       0.529776   \n",
       "AC007325.2                         Basal         2.505832       0.353413   \n",
       "AL354822.1                      Ciliated         1.177372       0.600569   \n",
       "AC004556.1                Alveolar_Type1         1.195818       0.611275   \n",
       "AC240274.1           Macrophage_MARCOneg         1.111767       0.621132   \n",
       "\n",
       "            tau_Meyer  gini_Meyer spe_type_Meyer  one_v_max_Barbry  \\\n",
       "gene                                                                 \n",
       "LINC00115    0.612519    0.323852        equirep          1.226817   \n",
       "FAM41C       0.634104    0.349967        equirep          1.125282   \n",
       "NOC2L        0.478723    0.190852        equirep          1.463043   \n",
       "PLEKHN1      0.872122    0.596108            low          1.832154   \n",
       "PERM1        0.992186    0.921158         unique          1.040512   \n",
       "...               ...         ...            ...               ...   \n",
       "AC007325.4   0.933019    0.605659           high          3.163253   \n",
       "AC007325.2   0.948815    0.848981           high          1.077784   \n",
       "AL354822.1   0.726390    0.493432        equirep          1.268024   \n",
       "AC004556.1   0.732075    0.444289        equirep          1.420643   \n",
       "AC240274.1   0.665616    0.437856        equirep          1.932472   \n",
       "\n",
       "            shannon_Barbry  tau_Barbry  gini_Barbry spe_type_Barbry  \n",
       "gene                                                                 \n",
       "LINC00115         0.628045    0.626468     0.399453         equirep  \n",
       "FAM41C            0.637185    0.663437     0.393725         equirep  \n",
       "NOC2L             0.673486    0.569871     0.219136         equirep  \n",
       "PLEKHN1           0.519458    0.867355     0.665310      multi-spec  \n",
       "PERM1             0.442806    0.854686     0.765738      multi-spec  \n",
       "...                    ...         ...          ...             ...  \n",
       "AC007325.4        0.538201    0.907686     0.615957            high  \n",
       "AC007325.2        0.414222    0.886558     0.792062      multi-spec  \n",
       "AL354822.1        0.604515    0.729433     0.467284         equirep  \n",
       "AC004556.1        0.578837    0.840537     0.550767      multi-spec  \n",
       "AC240274.1        0.608708    0.832561     0.461009             low  \n",
       "\n",
       "[13066 rows x 11 columns]"
      ]
     },
     "execution_count": 100,
     "metadata": {},
     "output_type": "execute_result"
    }
   ],
   "source": [
    "pred_all_Barbry_Meyer"
   ]
  },
  {
   "cell_type": "code",
   "execution_count": 119,
   "metadata": {},
   "outputs": [],
   "source": [
    "meyer_spe=meyer_spe.drop('gene_Meyer',axis=1)\n",
    "barbry_spe=barbry_spe.drop('gene_Barbry',axis=1)"
   ]
  },
  {
   "cell_type": "code",
   "execution_count": 88,
   "metadata": {},
   "outputs": [
    {
     "ename": "ValueError",
     "evalue": "Input contains NaN, infinity or a value too large for dtype('float32').",
     "output_type": "error",
     "traceback": [
      "\u001b[1;31m---------------------------------------------------------------------------\u001b[0m",
      "\u001b[1;31mValueError\u001b[0m                                Traceback (most recent call last)",
      "\u001b[1;32m<ipython-input-88-82ed86e840a8>\u001b[0m in \u001b[0;36m<module>\u001b[1;34m\u001b[0m\n\u001b[1;32m----> 1\u001b[1;33m \u001b[0mspe_type_meyer_pred\u001b[0m \u001b[1;33m=\u001b[0m \u001b[0mclf_Deprez_366obs\u001b[0m\u001b[1;33m.\u001b[0m\u001b[0mpredict\u001b[0m\u001b[1;33m(\u001b[0m\u001b[0mmeyer_spe\u001b[0m\u001b[1;33m[\u001b[0m\u001b[1;33m[\u001b[0m\u001b[1;34m'one_v_max'\u001b[0m\u001b[1;33m,\u001b[0m\u001b[1;34m'shannon'\u001b[0m\u001b[1;33m,\u001b[0m\u001b[1;34m'tau'\u001b[0m\u001b[1;33m,\u001b[0m\u001b[1;34m'gini'\u001b[0m\u001b[1;33m]\u001b[0m\u001b[1;33m]\u001b[0m\u001b[1;33m)\u001b[0m\u001b[1;33m\u001b[0m\u001b[1;33m\u001b[0m\u001b[0m\n\u001b[0m",
      "\u001b[1;32m~\\.conda\\envs\\scanpypip\\lib\\site-packages\\sklearn\\tree\\_classes.py\u001b[0m in \u001b[0;36mpredict\u001b[1;34m(self, X, check_input)\u001b[0m\n\u001b[0;32m    425\u001b[0m         \"\"\"\n\u001b[0;32m    426\u001b[0m         \u001b[0mcheck_is_fitted\u001b[0m\u001b[1;33m(\u001b[0m\u001b[0mself\u001b[0m\u001b[1;33m)\u001b[0m\u001b[1;33m\u001b[0m\u001b[1;33m\u001b[0m\u001b[0m\n\u001b[1;32m--> 427\u001b[1;33m         \u001b[0mX\u001b[0m \u001b[1;33m=\u001b[0m \u001b[0mself\u001b[0m\u001b[1;33m.\u001b[0m\u001b[0m_validate_X_predict\u001b[0m\u001b[1;33m(\u001b[0m\u001b[0mX\u001b[0m\u001b[1;33m,\u001b[0m \u001b[0mcheck_input\u001b[0m\u001b[1;33m)\u001b[0m\u001b[1;33m\u001b[0m\u001b[1;33m\u001b[0m\u001b[0m\n\u001b[0m\u001b[0;32m    428\u001b[0m         \u001b[0mproba\u001b[0m \u001b[1;33m=\u001b[0m \u001b[0mself\u001b[0m\u001b[1;33m.\u001b[0m\u001b[0mtree_\u001b[0m\u001b[1;33m.\u001b[0m\u001b[0mpredict\u001b[0m\u001b[1;33m(\u001b[0m\u001b[0mX\u001b[0m\u001b[1;33m)\u001b[0m\u001b[1;33m\u001b[0m\u001b[1;33m\u001b[0m\u001b[0m\n\u001b[0;32m    429\u001b[0m         \u001b[0mn_samples\u001b[0m \u001b[1;33m=\u001b[0m \u001b[0mX\u001b[0m\u001b[1;33m.\u001b[0m\u001b[0mshape\u001b[0m\u001b[1;33m[\u001b[0m\u001b[1;36m0\u001b[0m\u001b[1;33m]\u001b[0m\u001b[1;33m\u001b[0m\u001b[1;33m\u001b[0m\u001b[0m\n",
      "\u001b[1;32m~\\.conda\\envs\\scanpypip\\lib\\site-packages\\sklearn\\tree\\_classes.py\u001b[0m in \u001b[0;36m_validate_X_predict\u001b[1;34m(self, X, check_input)\u001b[0m\n\u001b[0;32m    386\u001b[0m         \u001b[1;34m\"\"\"Validate X whenever one tries to predict, apply, predict_proba\"\"\"\u001b[0m\u001b[1;33m\u001b[0m\u001b[1;33m\u001b[0m\u001b[0m\n\u001b[0;32m    387\u001b[0m         \u001b[1;32mif\u001b[0m \u001b[0mcheck_input\u001b[0m\u001b[1;33m:\u001b[0m\u001b[1;33m\u001b[0m\u001b[1;33m\u001b[0m\u001b[0m\n\u001b[1;32m--> 388\u001b[1;33m             \u001b[0mX\u001b[0m \u001b[1;33m=\u001b[0m \u001b[0mcheck_array\u001b[0m\u001b[1;33m(\u001b[0m\u001b[0mX\u001b[0m\u001b[1;33m,\u001b[0m \u001b[0mdtype\u001b[0m\u001b[1;33m=\u001b[0m\u001b[0mDTYPE\u001b[0m\u001b[1;33m,\u001b[0m \u001b[0maccept_sparse\u001b[0m\u001b[1;33m=\u001b[0m\u001b[1;34m\"csr\"\u001b[0m\u001b[1;33m)\u001b[0m\u001b[1;33m\u001b[0m\u001b[1;33m\u001b[0m\u001b[0m\n\u001b[0m\u001b[0;32m    389\u001b[0m             if issparse(X) and (X.indices.dtype != np.intc or\n\u001b[0;32m    390\u001b[0m                                 X.indptr.dtype != np.intc):\n",
      "\u001b[1;32m~\\.conda\\envs\\scanpypip\\lib\\site-packages\\sklearn\\utils\\validation.py\u001b[0m in \u001b[0;36minner_f\u001b[1;34m(*args, **kwargs)\u001b[0m\n\u001b[0;32m     70\u001b[0m                           FutureWarning)\n\u001b[0;32m     71\u001b[0m         \u001b[0mkwargs\u001b[0m\u001b[1;33m.\u001b[0m\u001b[0mupdate\u001b[0m\u001b[1;33m(\u001b[0m\u001b[1;33m{\u001b[0m\u001b[0mk\u001b[0m\u001b[1;33m:\u001b[0m \u001b[0marg\u001b[0m \u001b[1;32mfor\u001b[0m \u001b[0mk\u001b[0m\u001b[1;33m,\u001b[0m \u001b[0marg\u001b[0m \u001b[1;32min\u001b[0m \u001b[0mzip\u001b[0m\u001b[1;33m(\u001b[0m\u001b[0msig\u001b[0m\u001b[1;33m.\u001b[0m\u001b[0mparameters\u001b[0m\u001b[1;33m,\u001b[0m \u001b[0margs\u001b[0m\u001b[1;33m)\u001b[0m\u001b[1;33m}\u001b[0m\u001b[1;33m)\u001b[0m\u001b[1;33m\u001b[0m\u001b[1;33m\u001b[0m\u001b[0m\n\u001b[1;32m---> 72\u001b[1;33m         \u001b[1;32mreturn\u001b[0m \u001b[0mf\u001b[0m\u001b[1;33m(\u001b[0m\u001b[1;33m**\u001b[0m\u001b[0mkwargs\u001b[0m\u001b[1;33m)\u001b[0m\u001b[1;33m\u001b[0m\u001b[1;33m\u001b[0m\u001b[0m\n\u001b[0m\u001b[0;32m     73\u001b[0m     \u001b[1;32mreturn\u001b[0m \u001b[0minner_f\u001b[0m\u001b[1;33m\u001b[0m\u001b[1;33m\u001b[0m\u001b[0m\n\u001b[0;32m     74\u001b[0m \u001b[1;33m\u001b[0m\u001b[0m\n",
      "\u001b[1;32m~\\.conda\\envs\\scanpypip\\lib\\site-packages\\sklearn\\utils\\validation.py\u001b[0m in \u001b[0;36mcheck_array\u001b[1;34m(array, accept_sparse, accept_large_sparse, dtype, order, copy, force_all_finite, ensure_2d, allow_nd, ensure_min_samples, ensure_min_features, estimator)\u001b[0m\n\u001b[0;32m    642\u001b[0m \u001b[1;33m\u001b[0m\u001b[0m\n\u001b[0;32m    643\u001b[0m         \u001b[1;32mif\u001b[0m \u001b[0mforce_all_finite\u001b[0m\u001b[1;33m:\u001b[0m\u001b[1;33m\u001b[0m\u001b[1;33m\u001b[0m\u001b[0m\n\u001b[1;32m--> 644\u001b[1;33m             _assert_all_finite(array,\n\u001b[0m\u001b[0;32m    645\u001b[0m                                allow_nan=force_all_finite == 'allow-nan')\n\u001b[0;32m    646\u001b[0m \u001b[1;33m\u001b[0m\u001b[0m\n",
      "\u001b[1;32m~\\.conda\\envs\\scanpypip\\lib\\site-packages\\sklearn\\utils\\validation.py\u001b[0m in \u001b[0;36m_assert_all_finite\u001b[1;34m(X, allow_nan, msg_dtype)\u001b[0m\n\u001b[0;32m     94\u001b[0m                 not allow_nan and not np.isfinite(X).all()):\n\u001b[0;32m     95\u001b[0m             \u001b[0mtype_err\u001b[0m \u001b[1;33m=\u001b[0m \u001b[1;34m'infinity'\u001b[0m \u001b[1;32mif\u001b[0m \u001b[0mallow_nan\u001b[0m \u001b[1;32melse\u001b[0m \u001b[1;34m'NaN, infinity'\u001b[0m\u001b[1;33m\u001b[0m\u001b[1;33m\u001b[0m\u001b[0m\n\u001b[1;32m---> 96\u001b[1;33m             raise ValueError(\n\u001b[0m\u001b[0;32m     97\u001b[0m                     \u001b[0mmsg_err\u001b[0m\u001b[1;33m.\u001b[0m\u001b[0mformat\u001b[0m\u001b[1;33m\u001b[0m\u001b[1;33m\u001b[0m\u001b[0m\n\u001b[0;32m     98\u001b[0m                     (type_err,\n",
      "\u001b[1;31mValueError\u001b[0m: Input contains NaN, infinity or a value too large for dtype('float32')."
     ]
    }
   ],
   "source": [
    "spe_type_meyer_pred = clf_Deprez_366obs.predict(meyer_spe[['one_v_max','shannon','tau','gini']])"
   ]
  },
  {
   "cell_type": "code",
   "execution_count": 95,
   "metadata": {},
   "outputs": [
    {
     "data": {
      "text/html": [
       "<div>\n",
       "<style scoped>\n",
       "    .dataframe tbody tr th:only-of-type {\n",
       "        vertical-align: middle;\n",
       "    }\n",
       "\n",
       "    .dataframe tbody tr th {\n",
       "        vertical-align: top;\n",
       "    }\n",
       "\n",
       "    .dataframe thead th {\n",
       "        text-align: right;\n",
       "    }\n",
       "</style>\n",
       "<table border=\"1\" class=\"dataframe\">\n",
       "  <thead>\n",
       "    <tr style=\"text-align: right;\">\n",
       "      <th></th>\n",
       "      <th>most expressed celltype</th>\n",
       "      <th>one_v_max</th>\n",
       "      <th>shannon</th>\n",
       "      <th>tau</th>\n",
       "      <th>gini</th>\n",
       "    </tr>\n",
       "  </thead>\n",
       "  <tbody>\n",
       "    <tr>\n",
       "      <th>RP11-34P13.7</th>\n",
       "      <td>DC_plasmacytoid</td>\n",
       "      <td>3.120907</td>\n",
       "      <td>0.426032</td>\n",
       "      <td>0.956376</td>\n",
       "      <td>0.753801</td>\n",
       "    </tr>\n",
       "    <tr>\n",
       "      <th>RP11-34P13.8</th>\n",
       "      <td>Macrophage_Dividing</td>\n",
       "      <td>6.465109</td>\n",
       "      <td>0.124540</td>\n",
       "      <td>0.991510</td>\n",
       "      <td>0.946633</td>\n",
       "    </tr>\n",
       "    <tr>\n",
       "      <th>FO538757.3</th>\n",
       "      <td>Mast_cells</td>\n",
       "      <td>1.051696</td>\n",
       "      <td>0.168197</td>\n",
       "      <td>0.962499</td>\n",
       "      <td>0.926160</td>\n",
       "    </tr>\n",
       "    <tr>\n",
       "      <th>FO538757.2</th>\n",
       "      <td>Mast_cells</td>\n",
       "      <td>1.064265</td>\n",
       "      <td>0.681523</td>\n",
       "      <td>0.403931</td>\n",
       "      <td>0.184754</td>\n",
       "    </tr>\n",
       "    <tr>\n",
       "      <th>AP006222.2</th>\n",
       "      <td>Muscle_cells</td>\n",
       "      <td>1.590516</td>\n",
       "      <td>0.655178</td>\n",
       "      <td>0.718644</td>\n",
       "      <td>0.334584</td>\n",
       "    </tr>\n",
       "    <tr>\n",
       "      <th>...</th>\n",
       "      <td>...</td>\n",
       "      <td>...</td>\n",
       "      <td>...</td>\n",
       "      <td>...</td>\n",
       "      <td>...</td>\n",
       "    </tr>\n",
       "    <tr>\n",
       "      <th>AL354822.1</th>\n",
       "      <td>Ciliated</td>\n",
       "      <td>1.177372</td>\n",
       "      <td>0.600569</td>\n",
       "      <td>0.726390</td>\n",
       "      <td>0.493432</td>\n",
       "    </tr>\n",
       "    <tr>\n",
       "      <th>AC004556.1</th>\n",
       "      <td>Alveolar_Type1</td>\n",
       "      <td>1.195818</td>\n",
       "      <td>0.611275</td>\n",
       "      <td>0.732075</td>\n",
       "      <td>0.444289</td>\n",
       "    </tr>\n",
       "    <tr>\n",
       "      <th>AC233755.2</th>\n",
       "      <td>Plasma_cells</td>\n",
       "      <td>3.009538</td>\n",
       "      <td>0.151347</td>\n",
       "      <td>0.985766</td>\n",
       "      <td>0.940870</td>\n",
       "    </tr>\n",
       "    <tr>\n",
       "      <th>AC233755.1</th>\n",
       "      <td>Plasma_cells</td>\n",
       "      <td>31.902023</td>\n",
       "      <td>0.058257</td>\n",
       "      <td>0.997629</td>\n",
       "      <td>0.957543</td>\n",
       "    </tr>\n",
       "    <tr>\n",
       "      <th>AC240274.1</th>\n",
       "      <td>Macrophage_MARCOneg</td>\n",
       "      <td>1.111767</td>\n",
       "      <td>0.621132</td>\n",
       "      <td>0.665616</td>\n",
       "      <td>0.437856</td>\n",
       "    </tr>\n",
       "  </tbody>\n",
       "</table>\n",
       "<p>24874 rows × 5 columns</p>\n",
       "</div>"
      ],
      "text/plain": [
       "             most expressed celltype  one_v_max   shannon       tau      gini\n",
       "RP11-34P13.7         DC_plasmacytoid   3.120907  0.426032  0.956376  0.753801\n",
       "RP11-34P13.8     Macrophage_Dividing   6.465109  0.124540  0.991510  0.946633\n",
       "FO538757.3                Mast_cells   1.051696  0.168197  0.962499  0.926160\n",
       "FO538757.2                Mast_cells   1.064265  0.681523  0.403931  0.184754\n",
       "AP006222.2              Muscle_cells   1.590516  0.655178  0.718644  0.334584\n",
       "...                              ...        ...       ...       ...       ...\n",
       "AL354822.1                  Ciliated   1.177372  0.600569  0.726390  0.493432\n",
       "AC004556.1            Alveolar_Type1   1.195818  0.611275  0.732075  0.444289\n",
       "AC233755.2              Plasma_cells   3.009538  0.151347  0.985766  0.940870\n",
       "AC233755.1              Plasma_cells  31.902023  0.058257  0.997629  0.957543\n",
       "AC240274.1       Macrophage_MARCOneg   1.111767  0.621132  0.665616  0.437856\n",
       "\n",
       "[24874 rows x 5 columns]"
      ]
     },
     "execution_count": 95,
     "metadata": {},
     "output_type": "execute_result"
    }
   ],
   "source": [
    "meyer_spe.replace([np.inf, -np.inf], np.nan).dropna()"
   ]
  },
  {
   "cell_type": "code",
   "execution_count": 104,
   "metadata": {},
   "outputs": [],
   "source": [
    "barbry_spe['spe_type'] = pd.Series(spe_type_barbry_pred, index = barbry_spe.index).apply(str).replace(spec_dict)"
   ]
  },
  {
   "cell_type": "code",
   "execution_count": 123,
   "metadata": {},
   "outputs": [
    {
     "data": {
      "text/html": [
       "<div>\n",
       "<style scoped>\n",
       "    .dataframe tbody tr th:only-of-type {\n",
       "        vertical-align: middle;\n",
       "    }\n",
       "\n",
       "    .dataframe tbody tr th {\n",
       "        vertical-align: top;\n",
       "    }\n",
       "\n",
       "    .dataframe thead th {\n",
       "        text-align: right;\n",
       "    }\n",
       "</style>\n",
       "<table border=\"1\" class=\"dataframe\">\n",
       "  <thead>\n",
       "    <tr style=\"text-align: right;\">\n",
       "      <th></th>\n",
       "      <th>most expressed celltype_Meyer</th>\n",
       "      <th>one_v_max_Meyer</th>\n",
       "      <th>shannon_Meyer</th>\n",
       "      <th>tau_Meyer</th>\n",
       "      <th>gini_Meyer</th>\n",
       "      <th>spe_type_Meyer</th>\n",
       "      <th>gene_Barbry</th>\n",
       "      <th>most expressed celltype_Barbry</th>\n",
       "      <th>one_v_max_Barbry</th>\n",
       "      <th>shannon_Barbry</th>\n",
       "      <th>tau_Barbry</th>\n",
       "      <th>gini_Barbry</th>\n",
       "      <th>spe_type_Barbry</th>\n",
       "    </tr>\n",
       "  </thead>\n",
       "  <tbody>\n",
       "    <tr>\n",
       "      <th>LINC00115</th>\n",
       "      <td>Secretory_club</td>\n",
       "      <td>1.339706</td>\n",
       "      <td>0.657481</td>\n",
       "      <td>0.612519</td>\n",
       "      <td>0.323852</td>\n",
       "      <td>equirep</td>\n",
       "      <td>LINC00115</td>\n",
       "      <td>PNEC</td>\n",
       "      <td>1.226817</td>\n",
       "      <td>0.628045</td>\n",
       "      <td>0.626468</td>\n",
       "      <td>0.399453</td>\n",
       "      <td>equirep</td>\n",
       "    </tr>\n",
       "    <tr>\n",
       "      <th>FAM41C</th>\n",
       "      <td>B_cell_naive</td>\n",
       "      <td>1.198358</td>\n",
       "      <td>0.648717</td>\n",
       "      <td>0.634104</td>\n",
       "      <td>0.349967</td>\n",
       "      <td>equirep</td>\n",
       "      <td>FAM41C</td>\n",
       "      <td>Deuterosomal</td>\n",
       "      <td>1.125282</td>\n",
       "      <td>0.637185</td>\n",
       "      <td>0.663437</td>\n",
       "      <td>0.393725</td>\n",
       "      <td>equirep</td>\n",
       "    </tr>\n",
       "    <tr>\n",
       "      <th>NOC2L</th>\n",
       "      <td>Basal</td>\n",
       "      <td>1.174187</td>\n",
       "      <td>0.680950</td>\n",
       "      <td>0.478723</td>\n",
       "      <td>0.190852</td>\n",
       "      <td>equirep</td>\n",
       "      <td>NOC2L</td>\n",
       "      <td>Precursor</td>\n",
       "      <td>1.463043</td>\n",
       "      <td>0.673486</td>\n",
       "      <td>0.569871</td>\n",
       "      <td>0.219136</td>\n",
       "      <td>equirep</td>\n",
       "    </tr>\n",
       "    <tr>\n",
       "      <th>PLEKHN1</th>\n",
       "      <td>T_regulatory</td>\n",
       "      <td>1.884708</td>\n",
       "      <td>0.557493</td>\n",
       "      <td>0.872122</td>\n",
       "      <td>0.596108</td>\n",
       "      <td>low</td>\n",
       "      <td>PLEKHN1</td>\n",
       "      <td>Suprabasal N</td>\n",
       "      <td>1.832154</td>\n",
       "      <td>0.519458</td>\n",
       "      <td>0.867355</td>\n",
       "      <td>0.665310</td>\n",
       "      <td>low</td>\n",
       "    </tr>\n",
       "    <tr>\n",
       "      <th>PERM1</th>\n",
       "      <td>Secretory_club</td>\n",
       "      <td>21.341028</td>\n",
       "      <td>0.168331</td>\n",
       "      <td>0.992186</td>\n",
       "      <td>0.921158</td>\n",
       "      <td>unique</td>\n",
       "      <td>PERM1</td>\n",
       "      <td>Suprabasal</td>\n",
       "      <td>1.040512</td>\n",
       "      <td>0.442806</td>\n",
       "      <td>0.854686</td>\n",
       "      <td>0.765738</td>\n",
       "      <td>multi-spec</td>\n",
       "    </tr>\n",
       "    <tr>\n",
       "      <th>...</th>\n",
       "      <td>...</td>\n",
       "      <td>...</td>\n",
       "      <td>...</td>\n",
       "      <td>...</td>\n",
       "      <td>...</td>\n",
       "      <td>...</td>\n",
       "      <td>...</td>\n",
       "      <td>...</td>\n",
       "      <td>...</td>\n",
       "      <td>...</td>\n",
       "      <td>...</td>\n",
       "      <td>...</td>\n",
       "      <td>...</td>\n",
       "    </tr>\n",
       "    <tr>\n",
       "      <th>AC007325.4</th>\n",
       "      <td>Ciliated</td>\n",
       "      <td>3.987447</td>\n",
       "      <td>0.529776</td>\n",
       "      <td>0.933019</td>\n",
       "      <td>0.605659</td>\n",
       "      <td>high</td>\n",
       "      <td>AC007325.4</td>\n",
       "      <td>Deuterosomal</td>\n",
       "      <td>3.163253</td>\n",
       "      <td>0.538201</td>\n",
       "      <td>0.907686</td>\n",
       "      <td>0.615957</td>\n",
       "      <td>high</td>\n",
       "    </tr>\n",
       "    <tr>\n",
       "      <th>AC007325.2</th>\n",
       "      <td>Basal</td>\n",
       "      <td>2.505832</td>\n",
       "      <td>0.353413</td>\n",
       "      <td>0.948815</td>\n",
       "      <td>0.848981</td>\n",
       "      <td>high</td>\n",
       "      <td>AC007325.2</td>\n",
       "      <td>Cycling Basal</td>\n",
       "      <td>1.077784</td>\n",
       "      <td>0.414222</td>\n",
       "      <td>0.886558</td>\n",
       "      <td>0.792062</td>\n",
       "      <td>multi-spec</td>\n",
       "    </tr>\n",
       "    <tr>\n",
       "      <th>AL354822.1</th>\n",
       "      <td>Ciliated</td>\n",
       "      <td>1.177372</td>\n",
       "      <td>0.600569</td>\n",
       "      <td>0.726390</td>\n",
       "      <td>0.493432</td>\n",
       "      <td>equirep</td>\n",
       "      <td>AL354822.1</td>\n",
       "      <td>Ionocyte</td>\n",
       "      <td>1.268024</td>\n",
       "      <td>0.604515</td>\n",
       "      <td>0.729433</td>\n",
       "      <td>0.467284</td>\n",
       "      <td>equirep</td>\n",
       "    </tr>\n",
       "    <tr>\n",
       "      <th>AC004556.1</th>\n",
       "      <td>Alveolar_Type1</td>\n",
       "      <td>1.195818</td>\n",
       "      <td>0.611275</td>\n",
       "      <td>0.732075</td>\n",
       "      <td>0.444289</td>\n",
       "      <td>equirep</td>\n",
       "      <td>AC004556.1</td>\n",
       "      <td>Precursor</td>\n",
       "      <td>1.420643</td>\n",
       "      <td>0.578837</td>\n",
       "      <td>0.840537</td>\n",
       "      <td>0.550767</td>\n",
       "      <td>multi-spec</td>\n",
       "    </tr>\n",
       "    <tr>\n",
       "      <th>AC240274.1</th>\n",
       "      <td>Macrophage_MARCOneg</td>\n",
       "      <td>1.111767</td>\n",
       "      <td>0.621132</td>\n",
       "      <td>0.665616</td>\n",
       "      <td>0.437856</td>\n",
       "      <td>equirep</td>\n",
       "      <td>AC240274.1</td>\n",
       "      <td>Deuterosomal</td>\n",
       "      <td>1.932472</td>\n",
       "      <td>0.608708</td>\n",
       "      <td>0.832561</td>\n",
       "      <td>0.461009</td>\n",
       "      <td>multi-spec</td>\n",
       "    </tr>\n",
       "  </tbody>\n",
       "</table>\n",
       "<p>13066 rows × 13 columns</p>\n",
       "</div>"
      ],
      "text/plain": [
       "           most expressed celltype_Meyer  one_v_max_Meyer  shannon_Meyer  \\\n",
       "LINC00115                 Secretory_club         1.339706       0.657481   \n",
       "FAM41C                      B_cell_naive         1.198358       0.648717   \n",
       "NOC2L                              Basal         1.174187       0.680950   \n",
       "PLEKHN1                     T_regulatory         1.884708       0.557493   \n",
       "PERM1                     Secretory_club        21.341028       0.168331   \n",
       "...                                  ...              ...            ...   \n",
       "AC007325.4                      Ciliated         3.987447       0.529776   \n",
       "AC007325.2                         Basal         2.505832       0.353413   \n",
       "AL354822.1                      Ciliated         1.177372       0.600569   \n",
       "AC004556.1                Alveolar_Type1         1.195818       0.611275   \n",
       "AC240274.1           Macrophage_MARCOneg         1.111767       0.621132   \n",
       "\n",
       "            tau_Meyer  gini_Meyer spe_type_Meyer gene_Barbry  \\\n",
       "LINC00115    0.612519    0.323852        equirep   LINC00115   \n",
       "FAM41C       0.634104    0.349967        equirep      FAM41C   \n",
       "NOC2L        0.478723    0.190852        equirep       NOC2L   \n",
       "PLEKHN1      0.872122    0.596108            low     PLEKHN1   \n",
       "PERM1        0.992186    0.921158         unique       PERM1   \n",
       "...               ...         ...            ...         ...   \n",
       "AC007325.4   0.933019    0.605659           high  AC007325.4   \n",
       "AC007325.2   0.948815    0.848981           high  AC007325.2   \n",
       "AL354822.1   0.726390    0.493432        equirep  AL354822.1   \n",
       "AC004556.1   0.732075    0.444289        equirep  AC004556.1   \n",
       "AC240274.1   0.665616    0.437856        equirep  AC240274.1   \n",
       "\n",
       "           most expressed celltype_Barbry  one_v_max_Barbry  shannon_Barbry  \\\n",
       "LINC00115                            PNEC          1.226817        0.628045   \n",
       "FAM41C                       Deuterosomal          1.125282        0.637185   \n",
       "NOC2L                           Precursor          1.463043        0.673486   \n",
       "PLEKHN1                      Suprabasal N          1.832154        0.519458   \n",
       "PERM1                          Suprabasal          1.040512        0.442806   \n",
       "...                                   ...               ...             ...   \n",
       "AC007325.4                   Deuterosomal          3.163253        0.538201   \n",
       "AC007325.2                  Cycling Basal          1.077784        0.414222   \n",
       "AL354822.1                       Ionocyte          1.268024        0.604515   \n",
       "AC004556.1                      Precursor          1.420643        0.578837   \n",
       "AC240274.1                   Deuterosomal          1.932472        0.608708   \n",
       "\n",
       "            tau_Barbry  gini_Barbry spe_type_Barbry  \n",
       "LINC00115     0.626468     0.399453         equirep  \n",
       "FAM41C        0.663437     0.393725         equirep  \n",
       "NOC2L         0.569871     0.219136         equirep  \n",
       "PLEKHN1       0.867355     0.665310             low  \n",
       "PERM1         0.854686     0.765738      multi-spec  \n",
       "...                ...          ...             ...  \n",
       "AC007325.4    0.907686     0.615957            high  \n",
       "AC007325.2    0.886558     0.792062      multi-spec  \n",
       "AL354822.1    0.729433     0.467284         equirep  \n",
       "AC004556.1    0.840537     0.550767      multi-spec  \n",
       "AC240274.1    0.832561     0.461009      multi-spec  \n",
       "\n",
       "[13066 rows x 13 columns]"
      ]
     },
     "execution_count": 123,
     "metadata": {},
     "output_type": "execute_result"
    }
   ],
   "source": [
    "pred_all_Barbry_Meyer.drop('gene_Meyer',axis=1)"
   ]
  },
  {
   "cell_type": "code",
   "execution_count": 130,
   "metadata": {},
   "outputs": [],
   "source": [
    "new_selec=pred_all_Barbry_Meyer.loc[['FABP4','SPARCL1','CD69','CCL5','JUN','FCER1G','CXCL17','SCGB1A1','CPA3','SCGB3A1','CENPF','ALDH1A3','SCGB3A2','RHOB','CD74','ZFP36L2','IFI27','HPGD','MSLN','CD9','CD52'],:]"
   ]
  },
  {
   "cell_type": "code",
   "execution_count": 132,
   "metadata": {},
   "outputs": [],
   "source": [
    "new_selec.to_csv('new_genes.csv')"
   ]
  },
  {
   "cell_type": "code",
   "execution_count": null,
   "metadata": {},
   "outputs": [],
   "source": []
  }
 ],
 "metadata": {
  "kernelspec": {
   "display_name": "Python (scanpypip)",
   "language": "python",
   "name": "scanpypip"
  },
  "language_info": {
   "codemirror_mode": {
    "name": "ipython",
    "version": 3
   },
   "file_extension": ".py",
   "mimetype": "text/x-python",
   "name": "python",
   "nbconvert_exporter": "python",
   "pygments_lexer": "ipython3",
   "version": "3.8.5"
  }
 },
 "nbformat": 4,
 "nbformat_minor": 4
}
